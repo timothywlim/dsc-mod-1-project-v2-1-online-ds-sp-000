{
 "cells": [
  {
   "cell_type": "markdown",
   "metadata": {},
   "source": [
    "## Final Project Submission\n",
    "\n",
    "Please fill out:\n",
    "* Student name: Timothy Lim\n",
    "* Student pace: self paced\n",
    "* Scheduled project review date/time: Friday, Jan 15th 2020\n",
    "* Instructor name: Jeff Herman\n",
    "* Blog post URL:\n",
    "https://timothywlim.medium.com/baby-steps-in-exploratory-data-analysis-eda-with-python-ac6843b30f76\n"
   ]
  },
  {
   "cell_type": "markdown",
   "metadata": {},
   "source": [
    "## Business Understanding\n",
    "This project role played Microsoft as a company looking into joining the movie industry. Based on the data provided, analysis is done and a presentation is created to explores what type of films are currently doing the best at the box office. Findings are translated to actionable insights that CEO can use when deciding what type of films they should be creating."
   ]
  },
  {
   "cell_type": "markdown",
   "metadata": {},
   "source": [
    "## Data Mining\n",
    "A collections of datas imported from imdb, rotten tomatoes, and tmdb. Datas are previewed prior cleaning. Additional datas could be scraped from websites if needed. The csv files were all read and import as dataframes. After previewing through all of them, we picked a few to analyze more in depth."
   ]
  },
  {
   "cell_type": "code",
   "execution_count": 1,
   "metadata": {
    "ExecuteTime": {
     "end_time": "2021-01-15T05:34:54.752914Z",
     "start_time": "2021-01-15T05:34:50.621814Z"
    }
   },
   "outputs": [],
   "source": [
    "#import libraries\n",
    "import pandas as pd\n",
    "import matplotlib.pyplot as plt\n",
    "import seaborn as sns\n",
    "from datetime import datetime"
   ]
  },
  {
   "cell_type": "code",
   "execution_count": 2,
   "metadata": {
    "ExecuteTime": {
     "end_time": "2021-01-15T05:34:55.316699Z",
     "start_time": "2021-01-15T05:34:55.097630Z"
    }
   },
   "outputs": [
    {
     "name": "stdout",
     "output_type": "stream",
     "text": [
      "CONTRIBUTING.md             imdb.title.ratings.csv\r\n",
      "LICENSE.md                  module1_project_rubric.pdf\r\n",
      "README.md                   rt.movie_info.tsv\r\n",
      "awesome.gif                 rt.reviews.tsv\r\n",
      "bom.movie_gross.csv         student.ipynb\r\n",
      "imdb.name.basics.csv        tmdb.movies.csv\r\n",
      "imdb.title.akas.csv         tn.movie_budgets.csv\r\n",
      "imdb.title.basics.csv       workbook_raw.ipynb\r\n",
      "imdb.title.principals.csv\r\n"
     ]
    }
   ],
   "source": [
    "ls"
   ]
  },
  {
   "cell_type": "code",
   "execution_count": 3,
   "metadata": {
    "ExecuteTime": {
     "end_time": "2021-01-15T05:35:04.713684Z",
     "start_time": "2021-01-15T05:34:55.444725Z"
    }
   },
   "outputs": [],
   "source": [
    "# reading all csv files into dataframe\n",
    "imdb_name = pd.read_csv('imdb.name.basics.csv')\n",
    "imdb_akas = pd.read_csv('imdb.title.akas.csv')\n",
    "imdb_basics = pd.read_csv('imdb.title.basics.csv')\n",
    "imdb_principals = pd.read_csv('imdb.title.principals.csv')\n",
    "imdb_ratings = pd.read_csv('imdb.title.ratings.csv')\n",
    "\n",
    "#tsv is tab seperated values as oppose to comma seperated values,\n",
    "# we could read tsv using csv by calling out tab as the seperator\n",
    "rt_movie = pd.read_csv('rt.movie_info.tsv', sep='\\t')\n",
    "\n",
    "# reading tsv using csv as above. Also, setting encoding to latin1\n",
    "# because some characters are not written in 'utf-8' codec \n",
    "rt_reviews = pd.read_csv('rt.reviews.tsv', sep='\\t', encoding='latin1')\n",
    "tmdb_ratings = pd.read_csv('tmdb.movies.csv')\n",
    "tn_budgets = pd.read_csv('tn.movie_budgets.csv')"
   ]
  },
  {
   "cell_type": "code",
   "execution_count": 4,
   "metadata": {
    "ExecuteTime": {
     "end_time": "2021-01-15T05:35:05.641106Z",
     "start_time": "2021-01-15T05:35:05.390767Z"
    }
   },
   "outputs": [
    {
     "name": "stdout",
     "output_type": "stream",
     "text": [
      "<class 'pandas.core.frame.DataFrame'>\n",
      "RangeIndex: 606648 entries, 0 to 606647\n",
      "Data columns (total 6 columns):\n",
      "nconst                606648 non-null object\n",
      "primary_name          606648 non-null object\n",
      "birth_year            82736 non-null float64\n",
      "death_year            6783 non-null float64\n",
      "primary_profession    555308 non-null object\n",
      "known_for_titles      576444 non-null object\n",
      "dtypes: float64(2), object(4)\n",
      "memory usage: 27.8+ MB\n"
     ]
    },
    {
     "data": {
      "text/html": [
       "<div>\n",
       "<style scoped>\n",
       "    .dataframe tbody tr th:only-of-type {\n",
       "        vertical-align: middle;\n",
       "    }\n",
       "\n",
       "    .dataframe tbody tr th {\n",
       "        vertical-align: top;\n",
       "    }\n",
       "\n",
       "    .dataframe thead th {\n",
       "        text-align: right;\n",
       "    }\n",
       "</style>\n",
       "<table border=\"1\" class=\"dataframe\">\n",
       "  <thead>\n",
       "    <tr style=\"text-align: right;\">\n",
       "      <th></th>\n",
       "      <th>nconst</th>\n",
       "      <th>primary_name</th>\n",
       "      <th>birth_year</th>\n",
       "      <th>death_year</th>\n",
       "      <th>primary_profession</th>\n",
       "      <th>known_for_titles</th>\n",
       "    </tr>\n",
       "  </thead>\n",
       "  <tbody>\n",
       "    <tr>\n",
       "      <td>0</td>\n",
       "      <td>nm0061671</td>\n",
       "      <td>Mary Ellen Bauder</td>\n",
       "      <td>NaN</td>\n",
       "      <td>NaN</td>\n",
       "      <td>miscellaneous,production_manager,producer</td>\n",
       "      <td>tt0837562,tt2398241,tt0844471,tt0118553</td>\n",
       "    </tr>\n",
       "    <tr>\n",
       "      <td>1</td>\n",
       "      <td>nm0061865</td>\n",
       "      <td>Joseph Bauer</td>\n",
       "      <td>NaN</td>\n",
       "      <td>NaN</td>\n",
       "      <td>composer,music_department,sound_department</td>\n",
       "      <td>tt0896534,tt6791238,tt0287072,tt1682940</td>\n",
       "    </tr>\n",
       "    <tr>\n",
       "      <td>2</td>\n",
       "      <td>nm0062070</td>\n",
       "      <td>Bruce Baum</td>\n",
       "      <td>NaN</td>\n",
       "      <td>NaN</td>\n",
       "      <td>miscellaneous,actor,writer</td>\n",
       "      <td>tt1470654,tt0363631,tt0104030,tt0102898</td>\n",
       "    </tr>\n",
       "    <tr>\n",
       "      <td>3</td>\n",
       "      <td>nm0062195</td>\n",
       "      <td>Axel Baumann</td>\n",
       "      <td>NaN</td>\n",
       "      <td>NaN</td>\n",
       "      <td>camera_department,cinematographer,art_department</td>\n",
       "      <td>tt0114371,tt2004304,tt1618448,tt1224387</td>\n",
       "    </tr>\n",
       "    <tr>\n",
       "      <td>4</td>\n",
       "      <td>nm0062798</td>\n",
       "      <td>Pete Baxter</td>\n",
       "      <td>NaN</td>\n",
       "      <td>NaN</td>\n",
       "      <td>production_designer,art_department,set_decorator</td>\n",
       "      <td>tt0452644,tt0452692,tt3458030,tt2178256</td>\n",
       "    </tr>\n",
       "  </tbody>\n",
       "</table>\n",
       "</div>"
      ],
      "text/plain": [
       "      nconst       primary_name  birth_year  death_year  \\\n",
       "0  nm0061671  Mary Ellen Bauder         NaN         NaN   \n",
       "1  nm0061865       Joseph Bauer         NaN         NaN   \n",
       "2  nm0062070         Bruce Baum         NaN         NaN   \n",
       "3  nm0062195       Axel Baumann         NaN         NaN   \n",
       "4  nm0062798        Pete Baxter         NaN         NaN   \n",
       "\n",
       "                                 primary_profession  \\\n",
       "0         miscellaneous,production_manager,producer   \n",
       "1        composer,music_department,sound_department   \n",
       "2                        miscellaneous,actor,writer   \n",
       "3  camera_department,cinematographer,art_department   \n",
       "4  production_designer,art_department,set_decorator   \n",
       "\n",
       "                          known_for_titles  \n",
       "0  tt0837562,tt2398241,tt0844471,tt0118553  \n",
       "1  tt0896534,tt6791238,tt0287072,tt1682940  \n",
       "2  tt1470654,tt0363631,tt0104030,tt0102898  \n",
       "3  tt0114371,tt2004304,tt1618448,tt1224387  \n",
       "4  tt0452644,tt0452692,tt3458030,tt2178256  "
      ]
     },
     "execution_count": 4,
     "metadata": {},
     "output_type": "execute_result"
    }
   ],
   "source": [
    "#screen through dataframe summary, index and columns types and preview top 5 lines\n",
    "imdb_name.info()\n",
    "imdb_name.head()"
   ]
  },
  {
   "cell_type": "code",
   "execution_count": 5,
   "metadata": {
    "ExecuteTime": {
     "end_time": "2021-01-15T05:35:06.501132Z",
     "start_time": "2021-01-15T05:35:06.379249Z"
    }
   },
   "outputs": [
    {
     "name": "stdout",
     "output_type": "stream",
     "text": [
      "<class 'pandas.core.frame.DataFrame'>\n",
      "RangeIndex: 331703 entries, 0 to 331702\n",
      "Data columns (total 8 columns):\n",
      "title_id             331703 non-null object\n",
      "ordering             331703 non-null int64\n",
      "title                331703 non-null object\n",
      "region               278410 non-null object\n",
      "language             41715 non-null object\n",
      "types                168447 non-null object\n",
      "attributes           14925 non-null object\n",
      "is_original_title    331678 non-null float64\n",
      "dtypes: float64(1), int64(1), object(6)\n",
      "memory usage: 20.2+ MB\n"
     ]
    },
    {
     "data": {
      "text/html": [
       "<div>\n",
       "<style scoped>\n",
       "    .dataframe tbody tr th:only-of-type {\n",
       "        vertical-align: middle;\n",
       "    }\n",
       "\n",
       "    .dataframe tbody tr th {\n",
       "        vertical-align: top;\n",
       "    }\n",
       "\n",
       "    .dataframe thead th {\n",
       "        text-align: right;\n",
       "    }\n",
       "</style>\n",
       "<table border=\"1\" class=\"dataframe\">\n",
       "  <thead>\n",
       "    <tr style=\"text-align: right;\">\n",
       "      <th></th>\n",
       "      <th>title_id</th>\n",
       "      <th>ordering</th>\n",
       "      <th>title</th>\n",
       "      <th>region</th>\n",
       "      <th>language</th>\n",
       "      <th>types</th>\n",
       "      <th>attributes</th>\n",
       "      <th>is_original_title</th>\n",
       "    </tr>\n",
       "  </thead>\n",
       "  <tbody>\n",
       "    <tr>\n",
       "      <td>0</td>\n",
       "      <td>tt0369610</td>\n",
       "      <td>10</td>\n",
       "      <td>Джурасик свят</td>\n",
       "      <td>BG</td>\n",
       "      <td>bg</td>\n",
       "      <td>NaN</td>\n",
       "      <td>NaN</td>\n",
       "      <td>0.0</td>\n",
       "    </tr>\n",
       "    <tr>\n",
       "      <td>1</td>\n",
       "      <td>tt0369610</td>\n",
       "      <td>11</td>\n",
       "      <td>Jurashikku warudo</td>\n",
       "      <td>JP</td>\n",
       "      <td>NaN</td>\n",
       "      <td>imdbDisplay</td>\n",
       "      <td>NaN</td>\n",
       "      <td>0.0</td>\n",
       "    </tr>\n",
       "    <tr>\n",
       "      <td>2</td>\n",
       "      <td>tt0369610</td>\n",
       "      <td>12</td>\n",
       "      <td>Jurassic World: O Mundo dos Dinossauros</td>\n",
       "      <td>BR</td>\n",
       "      <td>NaN</td>\n",
       "      <td>imdbDisplay</td>\n",
       "      <td>NaN</td>\n",
       "      <td>0.0</td>\n",
       "    </tr>\n",
       "    <tr>\n",
       "      <td>3</td>\n",
       "      <td>tt0369610</td>\n",
       "      <td>13</td>\n",
       "      <td>O Mundo dos Dinossauros</td>\n",
       "      <td>BR</td>\n",
       "      <td>NaN</td>\n",
       "      <td>NaN</td>\n",
       "      <td>short title</td>\n",
       "      <td>0.0</td>\n",
       "    </tr>\n",
       "    <tr>\n",
       "      <td>4</td>\n",
       "      <td>tt0369610</td>\n",
       "      <td>14</td>\n",
       "      <td>Jurassic World</td>\n",
       "      <td>FR</td>\n",
       "      <td>NaN</td>\n",
       "      <td>imdbDisplay</td>\n",
       "      <td>NaN</td>\n",
       "      <td>0.0</td>\n",
       "    </tr>\n",
       "  </tbody>\n",
       "</table>\n",
       "</div>"
      ],
      "text/plain": [
       "    title_id  ordering                                    title region  \\\n",
       "0  tt0369610        10                            Джурасик свят     BG   \n",
       "1  tt0369610        11                        Jurashikku warudo     JP   \n",
       "2  tt0369610        12  Jurassic World: O Mundo dos Dinossauros     BR   \n",
       "3  tt0369610        13                  O Mundo dos Dinossauros     BR   \n",
       "4  tt0369610        14                           Jurassic World     FR   \n",
       "\n",
       "  language        types   attributes  is_original_title  \n",
       "0       bg          NaN          NaN                0.0  \n",
       "1      NaN  imdbDisplay          NaN                0.0  \n",
       "2      NaN  imdbDisplay          NaN                0.0  \n",
       "3      NaN          NaN  short title                0.0  \n",
       "4      NaN  imdbDisplay          NaN                0.0  "
      ]
     },
     "execution_count": 5,
     "metadata": {},
     "output_type": "execute_result"
    }
   ],
   "source": [
    "imdb_akas.info()\n",
    "imdb_akas.head()"
   ]
  },
  {
   "cell_type": "code",
   "execution_count": 6,
   "metadata": {
    "ExecuteTime": {
     "end_time": "2021-01-15T05:35:09.744327Z",
     "start_time": "2021-01-15T05:35:09.644578Z"
    }
   },
   "outputs": [
    {
     "name": "stdout",
     "output_type": "stream",
     "text": [
      "<class 'pandas.core.frame.DataFrame'>\n",
      "RangeIndex: 146144 entries, 0 to 146143\n",
      "Data columns (total 6 columns):\n",
      "tconst             146144 non-null object\n",
      "primary_title      146144 non-null object\n",
      "original_title     146123 non-null object\n",
      "start_year         146144 non-null int64\n",
      "runtime_minutes    114405 non-null float64\n",
      "genres             140736 non-null object\n",
      "dtypes: float64(1), int64(1), object(4)\n",
      "memory usage: 6.7+ MB\n"
     ]
    },
    {
     "data": {
      "text/html": [
       "<div>\n",
       "<style scoped>\n",
       "    .dataframe tbody tr th:only-of-type {\n",
       "        vertical-align: middle;\n",
       "    }\n",
       "\n",
       "    .dataframe tbody tr th {\n",
       "        vertical-align: top;\n",
       "    }\n",
       "\n",
       "    .dataframe thead th {\n",
       "        text-align: right;\n",
       "    }\n",
       "</style>\n",
       "<table border=\"1\" class=\"dataframe\">\n",
       "  <thead>\n",
       "    <tr style=\"text-align: right;\">\n",
       "      <th></th>\n",
       "      <th>tconst</th>\n",
       "      <th>primary_title</th>\n",
       "      <th>original_title</th>\n",
       "      <th>start_year</th>\n",
       "      <th>runtime_minutes</th>\n",
       "      <th>genres</th>\n",
       "    </tr>\n",
       "  </thead>\n",
       "  <tbody>\n",
       "    <tr>\n",
       "      <td>0</td>\n",
       "      <td>tt0063540</td>\n",
       "      <td>Sunghursh</td>\n",
       "      <td>Sunghursh</td>\n",
       "      <td>2013</td>\n",
       "      <td>175.0</td>\n",
       "      <td>Action,Crime,Drama</td>\n",
       "    </tr>\n",
       "    <tr>\n",
       "      <td>1</td>\n",
       "      <td>tt0066787</td>\n",
       "      <td>One Day Before the Rainy Season</td>\n",
       "      <td>Ashad Ka Ek Din</td>\n",
       "      <td>2019</td>\n",
       "      <td>114.0</td>\n",
       "      <td>Biography,Drama</td>\n",
       "    </tr>\n",
       "    <tr>\n",
       "      <td>2</td>\n",
       "      <td>tt0069049</td>\n",
       "      <td>The Other Side of the Wind</td>\n",
       "      <td>The Other Side of the Wind</td>\n",
       "      <td>2018</td>\n",
       "      <td>122.0</td>\n",
       "      <td>Drama</td>\n",
       "    </tr>\n",
       "    <tr>\n",
       "      <td>3</td>\n",
       "      <td>tt0069204</td>\n",
       "      <td>Sabse Bada Sukh</td>\n",
       "      <td>Sabse Bada Sukh</td>\n",
       "      <td>2018</td>\n",
       "      <td>NaN</td>\n",
       "      <td>Comedy,Drama</td>\n",
       "    </tr>\n",
       "    <tr>\n",
       "      <td>4</td>\n",
       "      <td>tt0100275</td>\n",
       "      <td>The Wandering Soap Opera</td>\n",
       "      <td>La Telenovela Errante</td>\n",
       "      <td>2017</td>\n",
       "      <td>80.0</td>\n",
       "      <td>Comedy,Drama,Fantasy</td>\n",
       "    </tr>\n",
       "  </tbody>\n",
       "</table>\n",
       "</div>"
      ],
      "text/plain": [
       "      tconst                    primary_title              original_title  \\\n",
       "0  tt0063540                        Sunghursh                   Sunghursh   \n",
       "1  tt0066787  One Day Before the Rainy Season             Ashad Ka Ek Din   \n",
       "2  tt0069049       The Other Side of the Wind  The Other Side of the Wind   \n",
       "3  tt0069204                  Sabse Bada Sukh             Sabse Bada Sukh   \n",
       "4  tt0100275         The Wandering Soap Opera       La Telenovela Errante   \n",
       "\n",
       "   start_year  runtime_minutes                genres  \n",
       "0        2013            175.0    Action,Crime,Drama  \n",
       "1        2019            114.0       Biography,Drama  \n",
       "2        2018            122.0                 Drama  \n",
       "3        2018              NaN          Comedy,Drama  \n",
       "4        2017             80.0  Comedy,Drama,Fantasy  "
      ]
     },
     "execution_count": 6,
     "metadata": {},
     "output_type": "execute_result"
    }
   ],
   "source": [
    "imdb_basics.info()\n",
    "imdb_basics.head()"
   ]
  },
  {
   "cell_type": "code",
   "execution_count": 7,
   "metadata": {
    "ExecuteTime": {
     "end_time": "2021-01-15T05:35:11.139386Z",
     "start_time": "2021-01-15T05:35:10.541154Z"
    }
   },
   "outputs": [
    {
     "name": "stdout",
     "output_type": "stream",
     "text": [
      "<class 'pandas.core.frame.DataFrame'>\n",
      "RangeIndex: 1028186 entries, 0 to 1028185\n",
      "Data columns (total 6 columns):\n",
      "tconst        1028186 non-null object\n",
      "ordering      1028186 non-null int64\n",
      "nconst        1028186 non-null object\n",
      "category      1028186 non-null object\n",
      "job           177684 non-null object\n",
      "characters    393360 non-null object\n",
      "dtypes: int64(1), object(5)\n",
      "memory usage: 47.1+ MB\n"
     ]
    },
    {
     "data": {
      "text/html": [
       "<div>\n",
       "<style scoped>\n",
       "    .dataframe tbody tr th:only-of-type {\n",
       "        vertical-align: middle;\n",
       "    }\n",
       "\n",
       "    .dataframe tbody tr th {\n",
       "        vertical-align: top;\n",
       "    }\n",
       "\n",
       "    .dataframe thead th {\n",
       "        text-align: right;\n",
       "    }\n",
       "</style>\n",
       "<table border=\"1\" class=\"dataframe\">\n",
       "  <thead>\n",
       "    <tr style=\"text-align: right;\">\n",
       "      <th></th>\n",
       "      <th>tconst</th>\n",
       "      <th>ordering</th>\n",
       "      <th>nconst</th>\n",
       "      <th>category</th>\n",
       "      <th>job</th>\n",
       "      <th>characters</th>\n",
       "    </tr>\n",
       "  </thead>\n",
       "  <tbody>\n",
       "    <tr>\n",
       "      <td>0</td>\n",
       "      <td>tt0111414</td>\n",
       "      <td>1</td>\n",
       "      <td>nm0246005</td>\n",
       "      <td>actor</td>\n",
       "      <td>NaN</td>\n",
       "      <td>[\"The Man\"]</td>\n",
       "    </tr>\n",
       "    <tr>\n",
       "      <td>1</td>\n",
       "      <td>tt0111414</td>\n",
       "      <td>2</td>\n",
       "      <td>nm0398271</td>\n",
       "      <td>director</td>\n",
       "      <td>NaN</td>\n",
       "      <td>NaN</td>\n",
       "    </tr>\n",
       "    <tr>\n",
       "      <td>2</td>\n",
       "      <td>tt0111414</td>\n",
       "      <td>3</td>\n",
       "      <td>nm3739909</td>\n",
       "      <td>producer</td>\n",
       "      <td>producer</td>\n",
       "      <td>NaN</td>\n",
       "    </tr>\n",
       "    <tr>\n",
       "      <td>3</td>\n",
       "      <td>tt0323808</td>\n",
       "      <td>10</td>\n",
       "      <td>nm0059247</td>\n",
       "      <td>editor</td>\n",
       "      <td>NaN</td>\n",
       "      <td>NaN</td>\n",
       "    </tr>\n",
       "    <tr>\n",
       "      <td>4</td>\n",
       "      <td>tt0323808</td>\n",
       "      <td>1</td>\n",
       "      <td>nm3579312</td>\n",
       "      <td>actress</td>\n",
       "      <td>NaN</td>\n",
       "      <td>[\"Beth Boothby\"]</td>\n",
       "    </tr>\n",
       "  </tbody>\n",
       "</table>\n",
       "</div>"
      ],
      "text/plain": [
       "      tconst  ordering     nconst  category       job        characters\n",
       "0  tt0111414         1  nm0246005     actor       NaN       [\"The Man\"]\n",
       "1  tt0111414         2  nm0398271  director       NaN               NaN\n",
       "2  tt0111414         3  nm3739909  producer  producer               NaN\n",
       "3  tt0323808        10  nm0059247    editor       NaN               NaN\n",
       "4  tt0323808         1  nm3579312   actress       NaN  [\"Beth Boothby\"]"
      ]
     },
     "execution_count": 7,
     "metadata": {},
     "output_type": "execute_result"
    }
   ],
   "source": [
    "imdb_principals.info()\n",
    "imdb_principals.head()"
   ]
  },
  {
   "cell_type": "code",
   "execution_count": 8,
   "metadata": {
    "ExecuteTime": {
     "end_time": "2021-01-15T05:35:11.246924Z",
     "start_time": "2021-01-15T05:35:11.152602Z"
    }
   },
   "outputs": [
    {
     "name": "stdout",
     "output_type": "stream",
     "text": [
      "<class 'pandas.core.frame.DataFrame'>\n",
      "RangeIndex: 73856 entries, 0 to 73855\n",
      "Data columns (total 3 columns):\n",
      "tconst           73856 non-null object\n",
      "averagerating    73856 non-null float64\n",
      "numvotes         73856 non-null int64\n",
      "dtypes: float64(1), int64(1), object(1)\n",
      "memory usage: 1.7+ MB\n"
     ]
    },
    {
     "data": {
      "text/html": [
       "<div>\n",
       "<style scoped>\n",
       "    .dataframe tbody tr th:only-of-type {\n",
       "        vertical-align: middle;\n",
       "    }\n",
       "\n",
       "    .dataframe tbody tr th {\n",
       "        vertical-align: top;\n",
       "    }\n",
       "\n",
       "    .dataframe thead th {\n",
       "        text-align: right;\n",
       "    }\n",
       "</style>\n",
       "<table border=\"1\" class=\"dataframe\">\n",
       "  <thead>\n",
       "    <tr style=\"text-align: right;\">\n",
       "      <th></th>\n",
       "      <th>tconst</th>\n",
       "      <th>averagerating</th>\n",
       "      <th>numvotes</th>\n",
       "    </tr>\n",
       "  </thead>\n",
       "  <tbody>\n",
       "    <tr>\n",
       "      <td>0</td>\n",
       "      <td>tt10356526</td>\n",
       "      <td>8.3</td>\n",
       "      <td>31</td>\n",
       "    </tr>\n",
       "    <tr>\n",
       "      <td>1</td>\n",
       "      <td>tt10384606</td>\n",
       "      <td>8.9</td>\n",
       "      <td>559</td>\n",
       "    </tr>\n",
       "    <tr>\n",
       "      <td>2</td>\n",
       "      <td>tt1042974</td>\n",
       "      <td>6.4</td>\n",
       "      <td>20</td>\n",
       "    </tr>\n",
       "    <tr>\n",
       "      <td>3</td>\n",
       "      <td>tt1043726</td>\n",
       "      <td>4.2</td>\n",
       "      <td>50352</td>\n",
       "    </tr>\n",
       "    <tr>\n",
       "      <td>4</td>\n",
       "      <td>tt1060240</td>\n",
       "      <td>6.5</td>\n",
       "      <td>21</td>\n",
       "    </tr>\n",
       "  </tbody>\n",
       "</table>\n",
       "</div>"
      ],
      "text/plain": [
       "       tconst  averagerating  numvotes\n",
       "0  tt10356526            8.3        31\n",
       "1  tt10384606            8.9       559\n",
       "2   tt1042974            6.4        20\n",
       "3   tt1043726            4.2     50352\n",
       "4   tt1060240            6.5        21"
      ]
     },
     "execution_count": 8,
     "metadata": {},
     "output_type": "execute_result"
    }
   ],
   "source": [
    "imdb_ratings.info()\n",
    "imdb_ratings.head()"
   ]
  },
  {
   "cell_type": "code",
   "execution_count": 9,
   "metadata": {
    "ExecuteTime": {
     "end_time": "2021-01-15T05:35:11.363288Z",
     "start_time": "2021-01-15T05:35:11.274554Z"
    }
   },
   "outputs": [
    {
     "name": "stdout",
     "output_type": "stream",
     "text": [
      "<class 'pandas.core.frame.DataFrame'>\n",
      "RangeIndex: 1560 entries, 0 to 1559\n",
      "Data columns (total 12 columns):\n",
      "id              1560 non-null int64\n",
      "synopsis        1498 non-null object\n",
      "rating          1557 non-null object\n",
      "genre           1552 non-null object\n",
      "director        1361 non-null object\n",
      "writer          1111 non-null object\n",
      "theater_date    1201 non-null object\n",
      "dvd_date        1201 non-null object\n",
      "currency        340 non-null object\n",
      "box_office      340 non-null object\n",
      "runtime         1530 non-null object\n",
      "studio          494 non-null object\n",
      "dtypes: int64(1), object(11)\n",
      "memory usage: 146.4+ KB\n"
     ]
    },
    {
     "data": {
      "text/html": [
       "<div>\n",
       "<style scoped>\n",
       "    .dataframe tbody tr th:only-of-type {\n",
       "        vertical-align: middle;\n",
       "    }\n",
       "\n",
       "    .dataframe tbody tr th {\n",
       "        vertical-align: top;\n",
       "    }\n",
       "\n",
       "    .dataframe thead th {\n",
       "        text-align: right;\n",
       "    }\n",
       "</style>\n",
       "<table border=\"1\" class=\"dataframe\">\n",
       "  <thead>\n",
       "    <tr style=\"text-align: right;\">\n",
       "      <th></th>\n",
       "      <th>id</th>\n",
       "      <th>synopsis</th>\n",
       "      <th>rating</th>\n",
       "      <th>genre</th>\n",
       "      <th>director</th>\n",
       "      <th>writer</th>\n",
       "      <th>theater_date</th>\n",
       "      <th>dvd_date</th>\n",
       "      <th>currency</th>\n",
       "      <th>box_office</th>\n",
       "      <th>runtime</th>\n",
       "      <th>studio</th>\n",
       "    </tr>\n",
       "  </thead>\n",
       "  <tbody>\n",
       "    <tr>\n",
       "      <td>0</td>\n",
       "      <td>1</td>\n",
       "      <td>This gritty, fast-paced, and innovative police...</td>\n",
       "      <td>R</td>\n",
       "      <td>Action and Adventure|Classics|Drama</td>\n",
       "      <td>William Friedkin</td>\n",
       "      <td>Ernest Tidyman</td>\n",
       "      <td>Oct 9, 1971</td>\n",
       "      <td>Sep 25, 2001</td>\n",
       "      <td>NaN</td>\n",
       "      <td>NaN</td>\n",
       "      <td>104 minutes</td>\n",
       "      <td>NaN</td>\n",
       "    </tr>\n",
       "    <tr>\n",
       "      <td>1</td>\n",
       "      <td>3</td>\n",
       "      <td>New York City, not-too-distant-future: Eric Pa...</td>\n",
       "      <td>R</td>\n",
       "      <td>Drama|Science Fiction and Fantasy</td>\n",
       "      <td>David Cronenberg</td>\n",
       "      <td>David Cronenberg|Don DeLillo</td>\n",
       "      <td>Aug 17, 2012</td>\n",
       "      <td>Jan 1, 2013</td>\n",
       "      <td>$</td>\n",
       "      <td>600,000</td>\n",
       "      <td>108 minutes</td>\n",
       "      <td>Entertainment One</td>\n",
       "    </tr>\n",
       "    <tr>\n",
       "      <td>2</td>\n",
       "      <td>5</td>\n",
       "      <td>Illeana Douglas delivers a superb performance ...</td>\n",
       "      <td>R</td>\n",
       "      <td>Drama|Musical and Performing Arts</td>\n",
       "      <td>Allison Anders</td>\n",
       "      <td>Allison Anders</td>\n",
       "      <td>Sep 13, 1996</td>\n",
       "      <td>Apr 18, 2000</td>\n",
       "      <td>NaN</td>\n",
       "      <td>NaN</td>\n",
       "      <td>116 minutes</td>\n",
       "      <td>NaN</td>\n",
       "    </tr>\n",
       "    <tr>\n",
       "      <td>3</td>\n",
       "      <td>6</td>\n",
       "      <td>Michael Douglas runs afoul of a treacherous su...</td>\n",
       "      <td>R</td>\n",
       "      <td>Drama|Mystery and Suspense</td>\n",
       "      <td>Barry Levinson</td>\n",
       "      <td>Paul Attanasio|Michael Crichton</td>\n",
       "      <td>Dec 9, 1994</td>\n",
       "      <td>Aug 27, 1997</td>\n",
       "      <td>NaN</td>\n",
       "      <td>NaN</td>\n",
       "      <td>128 minutes</td>\n",
       "      <td>NaN</td>\n",
       "    </tr>\n",
       "    <tr>\n",
       "      <td>4</td>\n",
       "      <td>7</td>\n",
       "      <td>NaN</td>\n",
       "      <td>NR</td>\n",
       "      <td>Drama|Romance</td>\n",
       "      <td>Rodney Bennett</td>\n",
       "      <td>Giles Cooper</td>\n",
       "      <td>NaN</td>\n",
       "      <td>NaN</td>\n",
       "      <td>NaN</td>\n",
       "      <td>NaN</td>\n",
       "      <td>200 minutes</td>\n",
       "      <td>NaN</td>\n",
       "    </tr>\n",
       "  </tbody>\n",
       "</table>\n",
       "</div>"
      ],
      "text/plain": [
       "   id                                           synopsis rating  \\\n",
       "0   1  This gritty, fast-paced, and innovative police...      R   \n",
       "1   3  New York City, not-too-distant-future: Eric Pa...      R   \n",
       "2   5  Illeana Douglas delivers a superb performance ...      R   \n",
       "3   6  Michael Douglas runs afoul of a treacherous su...      R   \n",
       "4   7                                                NaN     NR   \n",
       "\n",
       "                                 genre          director  \\\n",
       "0  Action and Adventure|Classics|Drama  William Friedkin   \n",
       "1    Drama|Science Fiction and Fantasy  David Cronenberg   \n",
       "2    Drama|Musical and Performing Arts    Allison Anders   \n",
       "3           Drama|Mystery and Suspense    Barry Levinson   \n",
       "4                        Drama|Romance    Rodney Bennett   \n",
       "\n",
       "                            writer  theater_date      dvd_date currency  \\\n",
       "0                   Ernest Tidyman   Oct 9, 1971  Sep 25, 2001      NaN   \n",
       "1     David Cronenberg|Don DeLillo  Aug 17, 2012   Jan 1, 2013        $   \n",
       "2                   Allison Anders  Sep 13, 1996  Apr 18, 2000      NaN   \n",
       "3  Paul Attanasio|Michael Crichton   Dec 9, 1994  Aug 27, 1997      NaN   \n",
       "4                     Giles Cooper           NaN           NaN      NaN   \n",
       "\n",
       "  box_office      runtime             studio  \n",
       "0        NaN  104 minutes                NaN  \n",
       "1    600,000  108 minutes  Entertainment One  \n",
       "2        NaN  116 minutes                NaN  \n",
       "3        NaN  128 minutes                NaN  \n",
       "4        NaN  200 minutes                NaN  "
      ]
     },
     "execution_count": 9,
     "metadata": {},
     "output_type": "execute_result"
    }
   ],
   "source": [
    "rt_movie.info()\n",
    "rt_movie.head()"
   ]
  },
  {
   "cell_type": "code",
   "execution_count": 10,
   "metadata": {
    "ExecuteTime": {
     "end_time": "2021-01-15T05:35:11.518258Z",
     "start_time": "2021-01-15T05:35:11.375573Z"
    }
   },
   "outputs": [
    {
     "name": "stdout",
     "output_type": "stream",
     "text": [
      "<class 'pandas.core.frame.DataFrame'>\n",
      "RangeIndex: 54432 entries, 0 to 54431\n",
      "Data columns (total 8 columns):\n",
      "id            54432 non-null int64\n",
      "review        48869 non-null object\n",
      "rating        40915 non-null object\n",
      "fresh         54432 non-null object\n",
      "critic        51710 non-null object\n",
      "top_critic    54432 non-null int64\n",
      "publisher     54123 non-null object\n",
      "date          54432 non-null object\n",
      "dtypes: int64(2), object(6)\n",
      "memory usage: 3.3+ MB\n"
     ]
    },
    {
     "data": {
      "text/html": [
       "<div>\n",
       "<style scoped>\n",
       "    .dataframe tbody tr th:only-of-type {\n",
       "        vertical-align: middle;\n",
       "    }\n",
       "\n",
       "    .dataframe tbody tr th {\n",
       "        vertical-align: top;\n",
       "    }\n",
       "\n",
       "    .dataframe thead th {\n",
       "        text-align: right;\n",
       "    }\n",
       "</style>\n",
       "<table border=\"1\" class=\"dataframe\">\n",
       "  <thead>\n",
       "    <tr style=\"text-align: right;\">\n",
       "      <th></th>\n",
       "      <th>id</th>\n",
       "      <th>review</th>\n",
       "      <th>rating</th>\n",
       "      <th>fresh</th>\n",
       "      <th>critic</th>\n",
       "      <th>top_critic</th>\n",
       "      <th>publisher</th>\n",
       "      <th>date</th>\n",
       "    </tr>\n",
       "  </thead>\n",
       "  <tbody>\n",
       "    <tr>\n",
       "      <td>0</td>\n",
       "      <td>3</td>\n",
       "      <td>A distinctly gallows take on contemporary fina...</td>\n",
       "      <td>3/5</td>\n",
       "      <td>fresh</td>\n",
       "      <td>PJ Nabarro</td>\n",
       "      <td>0</td>\n",
       "      <td>Patrick Nabarro</td>\n",
       "      <td>November 10, 2018</td>\n",
       "    </tr>\n",
       "    <tr>\n",
       "      <td>1</td>\n",
       "      <td>3</td>\n",
       "      <td>It's an allegory in search of a meaning that n...</td>\n",
       "      <td>NaN</td>\n",
       "      <td>rotten</td>\n",
       "      <td>Annalee Newitz</td>\n",
       "      <td>0</td>\n",
       "      <td>io9.com</td>\n",
       "      <td>May 23, 2018</td>\n",
       "    </tr>\n",
       "    <tr>\n",
       "      <td>2</td>\n",
       "      <td>3</td>\n",
       "      <td>... life lived in a bubble in financial dealin...</td>\n",
       "      <td>NaN</td>\n",
       "      <td>fresh</td>\n",
       "      <td>Sean Axmaker</td>\n",
       "      <td>0</td>\n",
       "      <td>Stream on Demand</td>\n",
       "      <td>January 4, 2018</td>\n",
       "    </tr>\n",
       "    <tr>\n",
       "      <td>3</td>\n",
       "      <td>3</td>\n",
       "      <td>Continuing along a line introduced in last yea...</td>\n",
       "      <td>NaN</td>\n",
       "      <td>fresh</td>\n",
       "      <td>Daniel Kasman</td>\n",
       "      <td>0</td>\n",
       "      <td>MUBI</td>\n",
       "      <td>November 16, 2017</td>\n",
       "    </tr>\n",
       "    <tr>\n",
       "      <td>4</td>\n",
       "      <td>3</td>\n",
       "      <td>... a perverse twist on neorealism...</td>\n",
       "      <td>NaN</td>\n",
       "      <td>fresh</td>\n",
       "      <td>NaN</td>\n",
       "      <td>0</td>\n",
       "      <td>Cinema Scope</td>\n",
       "      <td>October 12, 2017</td>\n",
       "    </tr>\n",
       "  </tbody>\n",
       "</table>\n",
       "</div>"
      ],
      "text/plain": [
       "   id                                             review rating   fresh  \\\n",
       "0   3  A distinctly gallows take on contemporary fina...    3/5   fresh   \n",
       "1   3  It's an allegory in search of a meaning that n...    NaN  rotten   \n",
       "2   3  ... life lived in a bubble in financial dealin...    NaN   fresh   \n",
       "3   3  Continuing along a line introduced in last yea...    NaN   fresh   \n",
       "4   3             ... a perverse twist on neorealism...     NaN   fresh   \n",
       "\n",
       "           critic  top_critic         publisher               date  \n",
       "0      PJ Nabarro           0   Patrick Nabarro  November 10, 2018  \n",
       "1  Annalee Newitz           0           io9.com       May 23, 2018  \n",
       "2    Sean Axmaker           0  Stream on Demand    January 4, 2018  \n",
       "3   Daniel Kasman           0              MUBI  November 16, 2017  \n",
       "4             NaN           0      Cinema Scope   October 12, 2017  "
      ]
     },
     "execution_count": 10,
     "metadata": {},
     "output_type": "execute_result"
    }
   ],
   "source": [
    "rt_reviews.info()\n",
    "rt_reviews.head()"
   ]
  },
  {
   "cell_type": "code",
   "execution_count": 11,
   "metadata": {
    "ExecuteTime": {
     "end_time": "2021-01-15T05:35:11.583479Z",
     "start_time": "2021-01-15T05:35:11.530507Z"
    },
    "scrolled": true
   },
   "outputs": [
    {
     "name": "stdout",
     "output_type": "stream",
     "text": [
      "<class 'pandas.core.frame.DataFrame'>\n",
      "RangeIndex: 26517 entries, 0 to 26516\n",
      "Data columns (total 10 columns):\n",
      "Unnamed: 0           26517 non-null int64\n",
      "genre_ids            26517 non-null object\n",
      "id                   26517 non-null int64\n",
      "original_language    26517 non-null object\n",
      "original_title       26517 non-null object\n",
      "popularity           26517 non-null float64\n",
      "release_date         26517 non-null object\n",
      "title                26517 non-null object\n",
      "vote_average         26517 non-null float64\n",
      "vote_count           26517 non-null int64\n",
      "dtypes: float64(2), int64(3), object(5)\n",
      "memory usage: 2.0+ MB\n"
     ]
    },
    {
     "data": {
      "text/html": [
       "<div>\n",
       "<style scoped>\n",
       "    .dataframe tbody tr th:only-of-type {\n",
       "        vertical-align: middle;\n",
       "    }\n",
       "\n",
       "    .dataframe tbody tr th {\n",
       "        vertical-align: top;\n",
       "    }\n",
       "\n",
       "    .dataframe thead th {\n",
       "        text-align: right;\n",
       "    }\n",
       "</style>\n",
       "<table border=\"1\" class=\"dataframe\">\n",
       "  <thead>\n",
       "    <tr style=\"text-align: right;\">\n",
       "      <th></th>\n",
       "      <th>Unnamed: 0</th>\n",
       "      <th>genre_ids</th>\n",
       "      <th>id</th>\n",
       "      <th>original_language</th>\n",
       "      <th>original_title</th>\n",
       "      <th>popularity</th>\n",
       "      <th>release_date</th>\n",
       "      <th>title</th>\n",
       "      <th>vote_average</th>\n",
       "      <th>vote_count</th>\n",
       "    </tr>\n",
       "  </thead>\n",
       "  <tbody>\n",
       "    <tr>\n",
       "      <td>0</td>\n",
       "      <td>0</td>\n",
       "      <td>[12, 14, 10751]</td>\n",
       "      <td>12444</td>\n",
       "      <td>en</td>\n",
       "      <td>Harry Potter and the Deathly Hallows: Part 1</td>\n",
       "      <td>33.533</td>\n",
       "      <td>2010-11-19</td>\n",
       "      <td>Harry Potter and the Deathly Hallows: Part 1</td>\n",
       "      <td>7.7</td>\n",
       "      <td>10788</td>\n",
       "    </tr>\n",
       "    <tr>\n",
       "      <td>1</td>\n",
       "      <td>1</td>\n",
       "      <td>[14, 12, 16, 10751]</td>\n",
       "      <td>10191</td>\n",
       "      <td>en</td>\n",
       "      <td>How to Train Your Dragon</td>\n",
       "      <td>28.734</td>\n",
       "      <td>2010-03-26</td>\n",
       "      <td>How to Train Your Dragon</td>\n",
       "      <td>7.7</td>\n",
       "      <td>7610</td>\n",
       "    </tr>\n",
       "    <tr>\n",
       "      <td>2</td>\n",
       "      <td>2</td>\n",
       "      <td>[12, 28, 878]</td>\n",
       "      <td>10138</td>\n",
       "      <td>en</td>\n",
       "      <td>Iron Man 2</td>\n",
       "      <td>28.515</td>\n",
       "      <td>2010-05-07</td>\n",
       "      <td>Iron Man 2</td>\n",
       "      <td>6.8</td>\n",
       "      <td>12368</td>\n",
       "    </tr>\n",
       "    <tr>\n",
       "      <td>3</td>\n",
       "      <td>3</td>\n",
       "      <td>[16, 35, 10751]</td>\n",
       "      <td>862</td>\n",
       "      <td>en</td>\n",
       "      <td>Toy Story</td>\n",
       "      <td>28.005</td>\n",
       "      <td>1995-11-22</td>\n",
       "      <td>Toy Story</td>\n",
       "      <td>7.9</td>\n",
       "      <td>10174</td>\n",
       "    </tr>\n",
       "    <tr>\n",
       "      <td>4</td>\n",
       "      <td>4</td>\n",
       "      <td>[28, 878, 12]</td>\n",
       "      <td>27205</td>\n",
       "      <td>en</td>\n",
       "      <td>Inception</td>\n",
       "      <td>27.920</td>\n",
       "      <td>2010-07-16</td>\n",
       "      <td>Inception</td>\n",
       "      <td>8.3</td>\n",
       "      <td>22186</td>\n",
       "    </tr>\n",
       "  </tbody>\n",
       "</table>\n",
       "</div>"
      ],
      "text/plain": [
       "   Unnamed: 0            genre_ids     id original_language  \\\n",
       "0           0      [12, 14, 10751]  12444                en   \n",
       "1           1  [14, 12, 16, 10751]  10191                en   \n",
       "2           2        [12, 28, 878]  10138                en   \n",
       "3           3      [16, 35, 10751]    862                en   \n",
       "4           4        [28, 878, 12]  27205                en   \n",
       "\n",
       "                                 original_title  popularity release_date  \\\n",
       "0  Harry Potter and the Deathly Hallows: Part 1      33.533   2010-11-19   \n",
       "1                      How to Train Your Dragon      28.734   2010-03-26   \n",
       "2                                    Iron Man 2      28.515   2010-05-07   \n",
       "3                                     Toy Story      28.005   1995-11-22   \n",
       "4                                     Inception      27.920   2010-07-16   \n",
       "\n",
       "                                          title  vote_average  vote_count  \n",
       "0  Harry Potter and the Deathly Hallows: Part 1           7.7       10788  \n",
       "1                      How to Train Your Dragon           7.7        7610  \n",
       "2                                    Iron Man 2           6.8       12368  \n",
       "3                                     Toy Story           7.9       10174  \n",
       "4                                     Inception           8.3       22186  "
      ]
     },
     "execution_count": 11,
     "metadata": {},
     "output_type": "execute_result"
    }
   ],
   "source": [
    "tmdb_ratings.info()\n",
    "tmdb_ratings.head()"
   ]
  },
  {
   "cell_type": "code",
   "execution_count": 12,
   "metadata": {
    "ExecuteTime": {
     "end_time": "2021-01-15T05:35:14.122775Z",
     "start_time": "2021-01-15T05:35:14.081265Z"
    }
   },
   "outputs": [
    {
     "name": "stdout",
     "output_type": "stream",
     "text": [
      "<class 'pandas.core.frame.DataFrame'>\n",
      "RangeIndex: 5782 entries, 0 to 5781\n",
      "Data columns (total 6 columns):\n",
      "id                   5782 non-null int64\n",
      "release_date         5782 non-null object\n",
      "movie                5782 non-null object\n",
      "production_budget    5782 non-null object\n",
      "domestic_gross       5782 non-null object\n",
      "worldwide_gross      5782 non-null object\n",
      "dtypes: int64(1), object(5)\n",
      "memory usage: 271.2+ KB\n"
     ]
    },
    {
     "data": {
      "text/html": [
       "<div>\n",
       "<style scoped>\n",
       "    .dataframe tbody tr th:only-of-type {\n",
       "        vertical-align: middle;\n",
       "    }\n",
       "\n",
       "    .dataframe tbody tr th {\n",
       "        vertical-align: top;\n",
       "    }\n",
       "\n",
       "    .dataframe thead th {\n",
       "        text-align: right;\n",
       "    }\n",
       "</style>\n",
       "<table border=\"1\" class=\"dataframe\">\n",
       "  <thead>\n",
       "    <tr style=\"text-align: right;\">\n",
       "      <th></th>\n",
       "      <th>id</th>\n",
       "      <th>release_date</th>\n",
       "      <th>movie</th>\n",
       "      <th>production_budget</th>\n",
       "      <th>domestic_gross</th>\n",
       "      <th>worldwide_gross</th>\n",
       "    </tr>\n",
       "  </thead>\n",
       "  <tbody>\n",
       "    <tr>\n",
       "      <td>0</td>\n",
       "      <td>1</td>\n",
       "      <td>Dec 18, 2009</td>\n",
       "      <td>Avatar</td>\n",
       "      <td>$425,000,000</td>\n",
       "      <td>$760,507,625</td>\n",
       "      <td>$2,776,345,279</td>\n",
       "    </tr>\n",
       "    <tr>\n",
       "      <td>1</td>\n",
       "      <td>2</td>\n",
       "      <td>May 20, 2011</td>\n",
       "      <td>Pirates of the Caribbean: On Stranger Tides</td>\n",
       "      <td>$410,600,000</td>\n",
       "      <td>$241,063,875</td>\n",
       "      <td>$1,045,663,875</td>\n",
       "    </tr>\n",
       "    <tr>\n",
       "      <td>2</td>\n",
       "      <td>3</td>\n",
       "      <td>Jun 7, 2019</td>\n",
       "      <td>Dark Phoenix</td>\n",
       "      <td>$350,000,000</td>\n",
       "      <td>$42,762,350</td>\n",
       "      <td>$149,762,350</td>\n",
       "    </tr>\n",
       "    <tr>\n",
       "      <td>3</td>\n",
       "      <td>4</td>\n",
       "      <td>May 1, 2015</td>\n",
       "      <td>Avengers: Age of Ultron</td>\n",
       "      <td>$330,600,000</td>\n",
       "      <td>$459,005,868</td>\n",
       "      <td>$1,403,013,963</td>\n",
       "    </tr>\n",
       "    <tr>\n",
       "      <td>4</td>\n",
       "      <td>5</td>\n",
       "      <td>Dec 15, 2017</td>\n",
       "      <td>Star Wars Ep. VIII: The Last Jedi</td>\n",
       "      <td>$317,000,000</td>\n",
       "      <td>$620,181,382</td>\n",
       "      <td>$1,316,721,747</td>\n",
       "    </tr>\n",
       "  </tbody>\n",
       "</table>\n",
       "</div>"
      ],
      "text/plain": [
       "   id  release_date                                        movie  \\\n",
       "0   1  Dec 18, 2009                                       Avatar   \n",
       "1   2  May 20, 2011  Pirates of the Caribbean: On Stranger Tides   \n",
       "2   3   Jun 7, 2019                                 Dark Phoenix   \n",
       "3   4   May 1, 2015                      Avengers: Age of Ultron   \n",
       "4   5  Dec 15, 2017            Star Wars Ep. VIII: The Last Jedi   \n",
       "\n",
       "  production_budget domestic_gross worldwide_gross  \n",
       "0      $425,000,000   $760,507,625  $2,776,345,279  \n",
       "1      $410,600,000   $241,063,875  $1,045,663,875  \n",
       "2      $350,000,000    $42,762,350    $149,762,350  \n",
       "3      $330,600,000   $459,005,868  $1,403,013,963  \n",
       "4      $317,000,000   $620,181,382  $1,316,721,747  "
      ]
     },
     "execution_count": 12,
     "metadata": {},
     "output_type": "execute_result"
    }
   ],
   "source": [
    "tn_budgets.info()\n",
    "tn_budgets.head()"
   ]
  },
  {
   "cell_type": "markdown",
   "metadata": {
    "ExecuteTime": {
     "end_time": "2020-12-15T20:32:21.285625Z",
     "start_time": "2020-12-15T20:32:21.281842Z"
    }
   },
   "source": [
    "## Data Cleaning"
   ]
  },
  {
   "cell_type": "markdown",
   "metadata": {},
   "source": [
    "The first step into analyzing data is data cleaning. Often data might be incomplete, duplicated, mixed formated (str & integer) or wrongly formated. This section will shows some of the tecniques cleaning up the dataframe prior to analyzing.\n",
    "\n",
    "The following sections are divided to 3 subsections. The main sections shows the progress in anayzing the datas while the 3 subsections address 3 unique questions that would help Microsoft to decide how to explore into the movie industry."
   ]
  },
  {
   "cell_type": "markdown",
   "metadata": {
    "ExecuteTime": {
     "end_time": "2020-12-15T20:32:15.687376Z",
     "start_time": "2020-12-15T20:32:15.684101Z"
    }
   },
   "source": [
    "### Cleaning of imdb_basics dataframe (Q1: Movie Genres)"
   ]
  },
  {
   "cell_type": "markdown",
   "metadata": {},
   "source": [
    "QUESTION #1\n",
    "What are the genre of the movies that was released in the last X years?\n",
    "The idea for this question was to explore the movie industry genre trends and potentially gauging movies' popularity and profitability baased on genre. Knowing that movies are often consiting more than one genre; it is still useful as a guide for a company new to the industry to understands what attracts and what does not."
   ]
  },
  {
   "cell_type": "markdown",
   "metadata": {},
   "source": [
    "In imdb_basics csv files we try to clean some duplicates. A quick search shows 10073 duplicates for primary_title and 8370 duplicates for original_title. As we investigate more, some of the primary_title share the same names but are movies created in different year. Whereas, the most of the duplicated original_title are same movie bue in different language. Here we assume movie watchers would pick to watch a movie in their most comfortable language and thus cutting down the overlap of entry when calculating total genre of movie each year."
   ]
  },
  {
   "cell_type": "code",
   "execution_count": 13,
   "metadata": {
    "ExecuteTime": {
     "end_time": "2021-01-15T05:35:15.287169Z",
     "start_time": "2021-01-15T05:35:15.125125Z"
    }
   },
   "outputs": [],
   "source": [
    "# droping duplicates in original title\n",
    "imdb_basics_drpduplicate = imdb_basics.drop_duplicates(subset = 'original_title')"
   ]
  },
  {
   "cell_type": "code",
   "execution_count": 14,
   "metadata": {
    "ExecuteTime": {
     "end_time": "2021-01-15T05:35:15.314771Z",
     "start_time": "2021-01-15T05:35:15.295277Z"
    }
   },
   "outputs": [
    {
     "data": {
      "text/plain": [
       "0           Action,Crime,Drama\n",
       "1              Biography,Drama\n",
       "2                        Drama\n",
       "3                 Comedy,Drama\n",
       "4         Comedy,Drama,Fantasy\n",
       "                  ...         \n",
       "146139                   Drama\n",
       "146140             Documentary\n",
       "146141                  Comedy\n",
       "146142                     NaN\n",
       "146143             Documentary\n",
       "Name: genres, Length: 137774, dtype: object"
      ]
     },
     "execution_count": 14,
     "metadata": {},
     "output_type": "execute_result"
    }
   ],
   "source": [
    "# preview 'genres' of imdb_basics_drpduplicate\n",
    "imdb_basics_drpduplicate['genres']"
   ]
  },
  {
   "cell_type": "markdown",
   "metadata": {},
   "source": [
    "As seen above, line 137774 contains NaN (not a number/ do not have value). We will input 'missing' as a genre of itself so that python does not throw a error when counting NaN."
   ]
  },
  {
   "cell_type": "code",
   "execution_count": 15,
   "metadata": {
    "ExecuteTime": {
     "end_time": "2021-01-15T05:35:15.362658Z",
     "start_time": "2021-01-15T05:35:15.319497Z"
    }
   },
   "outputs": [
    {
     "name": "stderr",
     "output_type": "stream",
     "text": [
      "/Users/timothylim/opt/anaconda3/envs/learn-env/lib/python3.6/site-packages/pandas/core/generic.py:6287: SettingWithCopyWarning: \n",
      "A value is trying to be set on a copy of a slice from a DataFrame\n",
      "\n",
      "See the caveats in the documentation: http://pandas.pydata.org/pandas-docs/stable/user_guide/indexing.html#returning-a-view-versus-a-copy\n",
      "  self._update_inplace(new_data)\n"
     ]
    }
   ],
   "source": [
    "# substituting NaN in 'genre' as 'missing', inplace true to keep the same dataframe\n",
    "imdb_basics_drpduplicate['genres'].fillna('missing', inplace = True)"
   ]
  },
  {
   "cell_type": "code",
   "execution_count": 16,
   "metadata": {
    "ExecuteTime": {
     "end_time": "2021-01-15T05:35:15.403301Z",
     "start_time": "2021-01-15T05:35:15.375973Z"
    }
   },
   "outputs": [],
   "source": [
    "# dropping non-needed information\n",
    "dfbasic = imdb_basics_drpduplicate.drop(['primary_title','runtime_minutes'],axis=1)"
   ]
  },
  {
   "cell_type": "markdown",
   "metadata": {},
   "source": [
    "### Cleaning of tn_budgets dataframe (Q2: Movie Release Date)"
   ]
  },
  {
   "cell_type": "markdown",
   "metadata": {},
   "source": [
    "QUESTION #2\n",
    "Does release date affects movie gross? Is there a preffered months for movie release?\n",
    "We are trying to gage if production budget, domestic and worldwide gross are affected by movie release date."
   ]
  },
  {
   "cell_type": "code",
   "execution_count": 17,
   "metadata": {
    "ExecuteTime": {
     "end_time": "2021-01-15T05:35:17.645791Z",
     "start_time": "2021-01-15T05:35:17.616561Z"
    }
   },
   "outputs": [
    {
     "data": {
      "text/plain": [
       "'$410,600,000'"
      ]
     },
     "execution_count": 17,
     "metadata": {},
     "output_type": "execute_result"
    }
   ],
   "source": [
    "# taking a slice of the production data to observe the written format\n",
    "tn_budgets['production_budget'][1]"
   ]
  },
  {
   "cell_type": "code",
   "execution_count": 18,
   "metadata": {
    "ExecuteTime": {
     "end_time": "2021-01-15T05:35:18.361199Z",
     "start_time": "2021-01-15T05:35:18.351267Z"
    }
   },
   "outputs": [
    {
     "data": {
      "text/plain": [
       "str"
      ]
     },
     "execution_count": 18,
     "metadata": {},
     "output_type": "execute_result"
    }
   ],
   "source": [
    "# checking data type of index\n",
    "type(tn_budgets['production_budget'][1])"
   ]
  },
  {
   "cell_type": "code",
   "execution_count": 19,
   "metadata": {
    "ExecuteTime": {
     "end_time": "2021-01-15T05:35:18.458547Z",
     "start_time": "2021-01-15T05:35:18.378641Z"
    }
   },
   "outputs": [],
   "source": [
    "# striping the \"$\" and \",\" and changing string to integer\n",
    "tn_budgets['production_budget'] = tn_budgets['production_budget'].map(lambda x: int(x.strip('$').replace(',','')))\n",
    "tn_budgets['domestic_gross'] = tn_budgets['domestic_gross'].map(lambda x: int(x.strip('$').replace(',','')))\n",
    "tn_budgets['worldwide_gross'] = tn_budgets['worldwide_gross'].map(lambda x: int(x.strip('$').replace(',','')))"
   ]
  },
  {
   "cell_type": "code",
   "execution_count": 20,
   "metadata": {
    "ExecuteTime": {
     "end_time": "2021-01-15T05:35:20.061104Z",
     "start_time": "2021-01-15T05:35:19.872251Z"
    }
   },
   "outputs": [],
   "source": [
    "# create new column for movie release month, parsing string format to datetime format\n",
    "tn_budgets['release_month'] = tn_budgets['release_date'].map(lambda x: datetime.strptime(x,'%b %d, %Y').month)"
   ]
  },
  {
   "cell_type": "code",
   "execution_count": 21,
   "metadata": {
    "ExecuteTime": {
     "end_time": "2021-01-15T05:35:20.942988Z",
     "start_time": "2021-01-15T05:35:20.784268Z"
    }
   },
   "outputs": [],
   "source": [
    "# create new column for movie release year, parsing string format to datetime format\n",
    "tn_budgets['release_year'] = tn_budgets['release_date'].map(lambda x: datetime.strptime(x,'%b %d, %Y').year)"
   ]
  },
  {
   "cell_type": "code",
   "execution_count": 22,
   "metadata": {
    "ExecuteTime": {
     "end_time": "2021-01-15T05:35:21.515153Z",
     "start_time": "2021-01-15T05:35:21.464534Z"
    }
   },
   "outputs": [
    {
     "data": {
      "text/html": [
       "<div>\n",
       "<style scoped>\n",
       "    .dataframe tbody tr th:only-of-type {\n",
       "        vertical-align: middle;\n",
       "    }\n",
       "\n",
       "    .dataframe tbody tr th {\n",
       "        vertical-align: top;\n",
       "    }\n",
       "\n",
       "    .dataframe thead th {\n",
       "        text-align: right;\n",
       "    }\n",
       "</style>\n",
       "<table border=\"1\" class=\"dataframe\">\n",
       "  <thead>\n",
       "    <tr style=\"text-align: right;\">\n",
       "      <th></th>\n",
       "      <th>id</th>\n",
       "      <th>release_date</th>\n",
       "      <th>movie</th>\n",
       "      <th>production_budget</th>\n",
       "      <th>domestic_gross</th>\n",
       "      <th>worldwide_gross</th>\n",
       "      <th>release_month</th>\n",
       "      <th>release_year</th>\n",
       "    </tr>\n",
       "  </thead>\n",
       "  <tbody>\n",
       "    <tr>\n",
       "      <td>0</td>\n",
       "      <td>1</td>\n",
       "      <td>Dec 18, 2009</td>\n",
       "      <td>Avatar</td>\n",
       "      <td>425000000</td>\n",
       "      <td>760507625</td>\n",
       "      <td>2776345279</td>\n",
       "      <td>12</td>\n",
       "      <td>2009</td>\n",
       "    </tr>\n",
       "    <tr>\n",
       "      <td>1</td>\n",
       "      <td>2</td>\n",
       "      <td>May 20, 2011</td>\n",
       "      <td>Pirates of the Caribbean: On Stranger Tides</td>\n",
       "      <td>410600000</td>\n",
       "      <td>241063875</td>\n",
       "      <td>1045663875</td>\n",
       "      <td>5</td>\n",
       "      <td>2011</td>\n",
       "    </tr>\n",
       "    <tr>\n",
       "      <td>2</td>\n",
       "      <td>3</td>\n",
       "      <td>Jun 7, 2019</td>\n",
       "      <td>Dark Phoenix</td>\n",
       "      <td>350000000</td>\n",
       "      <td>42762350</td>\n",
       "      <td>149762350</td>\n",
       "      <td>6</td>\n",
       "      <td>2019</td>\n",
       "    </tr>\n",
       "    <tr>\n",
       "      <td>3</td>\n",
       "      <td>4</td>\n",
       "      <td>May 1, 2015</td>\n",
       "      <td>Avengers: Age of Ultron</td>\n",
       "      <td>330600000</td>\n",
       "      <td>459005868</td>\n",
       "      <td>1403013963</td>\n",
       "      <td>5</td>\n",
       "      <td>2015</td>\n",
       "    </tr>\n",
       "    <tr>\n",
       "      <td>4</td>\n",
       "      <td>5</td>\n",
       "      <td>Dec 15, 2017</td>\n",
       "      <td>Star Wars Ep. VIII: The Last Jedi</td>\n",
       "      <td>317000000</td>\n",
       "      <td>620181382</td>\n",
       "      <td>1316721747</td>\n",
       "      <td>12</td>\n",
       "      <td>2017</td>\n",
       "    </tr>\n",
       "  </tbody>\n",
       "</table>\n",
       "</div>"
      ],
      "text/plain": [
       "   id  release_date                                        movie  \\\n",
       "0   1  Dec 18, 2009                                       Avatar   \n",
       "1   2  May 20, 2011  Pirates of the Caribbean: On Stranger Tides   \n",
       "2   3   Jun 7, 2019                                 Dark Phoenix   \n",
       "3   4   May 1, 2015                      Avengers: Age of Ultron   \n",
       "4   5  Dec 15, 2017            Star Wars Ep. VIII: The Last Jedi   \n",
       "\n",
       "   production_budget  domestic_gross  worldwide_gross  release_month  \\\n",
       "0          425000000       760507625       2776345279             12   \n",
       "1          410600000       241063875       1045663875              5   \n",
       "2          350000000        42762350        149762350              6   \n",
       "3          330600000       459005868       1403013963              5   \n",
       "4          317000000       620181382       1316721747             12   \n",
       "\n",
       "   release_year  \n",
       "0          2009  \n",
       "1          2011  \n",
       "2          2019  \n",
       "3          2015  \n",
       "4          2017  "
      ]
     },
     "execution_count": 22,
     "metadata": {},
     "output_type": "execute_result"
    }
   ],
   "source": [
    "tn_budgets.head()"
   ]
  },
  {
   "cell_type": "code",
   "execution_count": 23,
   "metadata": {
    "ExecuteTime": {
     "end_time": "2021-01-15T05:35:21.563771Z",
     "start_time": "2021-01-15T05:35:21.531308Z"
    }
   },
   "outputs": [
    {
     "data": {
      "text/plain": [
       "2020"
      ]
     },
     "execution_count": 23,
     "metadata": {},
     "output_type": "execute_result"
    }
   ],
   "source": [
    "#checking the latest recorded year in dataframe\n",
    "tn_budgets['release_year'].max()"
   ]
  },
  {
   "cell_type": "code",
   "execution_count": 24,
   "metadata": {
    "ExecuteTime": {
     "end_time": "2021-01-15T05:35:21.594958Z",
     "start_time": "2021-01-15T05:35:21.583718Z"
    }
   },
   "outputs": [
    {
     "data": {
      "text/plain": [
       "1915"
      ]
     },
     "execution_count": 24,
     "metadata": {},
     "output_type": "execute_result"
    }
   ],
   "source": [
    "#checking the oldest recorded year in dataframe\n",
    "tn_budgets['release_year'].min()"
   ]
  },
  {
   "cell_type": "code",
   "execution_count": 25,
   "metadata": {
    "ExecuteTime": {
     "end_time": "2021-01-15T05:35:21.662906Z",
     "start_time": "2021-01-15T05:35:21.597895Z"
    }
   },
   "outputs": [
    {
     "data": {
      "text/plain": [
       "1915      1\n",
       "1937      1\n",
       "1941      1\n",
       "1927      1\n",
       "1947      1\n",
       "       ... \n",
       "2014    255\n",
       "2006    260\n",
       "2008    264\n",
       "2010    274\n",
       "2015    338\n",
       "Name: release_year, Length: 96, dtype: int64"
      ]
     },
     "execution_count": 25,
     "metadata": {},
     "output_type": "execute_result"
    }
   ],
   "source": [
    "#doing a quick count of movies released each year\n",
    "tn_budgets['release_year'].value_counts(sort=True, ascending=True)"
   ]
  },
  {
   "cell_type": "markdown",
   "metadata": {},
   "source": [
    "Data for movies released in earlier years are less frequent and will just be included at this point for mean calculation. We are assuming that the combination of movies across the years is a fair way to gage the earning across the years, assuming that the quality demand of movie does change over the years and so are the budget demand. On the flip side, we are also considering multiple recent movies that broke the record office are the other extreme that will throw off our data.  At this point, we will rely on boxplot later in visualization part to reduce the outliers and ploting the interquantile range."
   ]
  },
  {
   "cell_type": "code",
   "execution_count": 53,
   "metadata": {
    "ExecuteTime": {
     "end_time": "2021-01-15T06:02:53.065627Z",
     "start_time": "2021-01-15T06:02:53.058631Z"
    }
   },
   "outputs": [],
   "source": [
    "# Dropping unneeded columns, creating a new dataframe as we modify dataframe data\n",
    "tn_budgets_clean = tn_budgets.drop(['id','release_date','release_year'], axis=1)"
   ]
  },
  {
   "cell_type": "markdown",
   "metadata": {
    "ExecuteTime": {
     "end_time": "2021-01-10T00:14:18.420968Z",
     "start_time": "2021-01-10T00:14:18.379905Z"
    }
   },
   "source": [
    "### Cleaning of tn_budgets_earnings dataframe (Q3: Movie Budget vs Earnings)"
   ]
  },
  {
   "cell_type": "markdown",
   "metadata": {},
   "source": [
    "QUESTION #3\n",
    "How much does movie production cost? What's the expected range of a profitable movie and what is the expected earnings? \n",
    "\n",
    "We know some movies explode the box office but some do not fair well. There are many things that influnce that. Knowing how much budget range for most profitable movies will gives Microsoft a benchmark on what is the appropriate capital to spend for each movie, and what is the expected profit margin. These helps to set realistic goals, and are decision factors for companies to gage if there is a business case for venturing into a new field."
   ]
  },
  {
   "cell_type": "code",
   "execution_count": 27,
   "metadata": {
    "ExecuteTime": {
     "end_time": "2021-01-15T05:35:23.696522Z",
     "start_time": "2021-01-15T05:35:23.676270Z"
    }
   },
   "outputs": [],
   "source": [
    "# using previous tn-budgets dataframe we drop non-needed columns\n",
    "tn_budgets_earnings = tn_budgets.drop(['id','release_date', 'release_month', 'release_year'], axis=1)"
   ]
  },
  {
   "cell_type": "markdown",
   "metadata": {},
   "source": [
    "## Data Exploration"
   ]
  },
  {
   "cell_type": "markdown",
   "metadata": {},
   "source": [
    "The Data Exploration section we will reorganize or search deeper to 'make sense' of the data, making hypothesis, searching for trends and focus in on useful data. These information will help us in our planning, to make better decisions and predictions."
   ]
  },
  {
   "cell_type": "markdown",
   "metadata": {},
   "source": [
    "### Exploring imdb_basics_clean dataframe (Q1: Movie Genres)"
   ]
  },
  {
   "cell_type": "markdown",
   "metadata": {},
   "source": [
    "Many of the movies consist more than one genre, we ended up with (i.e. \"Action, Crime, Drama\" as one genre). This makes counting the genres very inefficient because unless two movies shares the exact same genre list, it will each otherwise be considered a movie of its' own genre. With that, we have to divide up the movie genres and find out a total of unique genres.\n",
    "\n",
    "Considering the work, this is a bit of exploration + cleaning. To get down to the unique genres we end up having to clean the dataframe more and build our own new list and new dataframe."
   ]
  },
  {
   "cell_type": "code",
   "execution_count": 28,
   "metadata": {
    "ExecuteTime": {
     "end_time": "2021-01-15T05:35:24.327885Z",
     "start_time": "2021-01-15T05:35:24.233621Z"
    }
   },
   "outputs": [],
   "source": [
    "#listing all genres into one list of lists\n",
    "list_genres = imdb_basics_drpduplicate.genres.values.tolist()\n",
    "\n",
    "#creating a single list of all the genres\n",
    "newlist_genre = list()\n",
    "#Iterate over list_genres\n",
    "for item in list_genres:\n",
    "    #split the element string into a single list by removing ','\n",
    "    genres = item.split(',')\n",
    "    #extend/ combine all the genres into newlist_genre\n",
    "    newlist_genre.extend(genres)"
   ]
  },
  {
   "cell_type": "code",
   "execution_count": 29,
   "metadata": {
    "ExecuteTime": {
     "end_time": "2021-01-15T05:35:24.835010Z",
     "start_time": "2021-01-15T05:35:24.815618Z"
    }
   },
   "outputs": [],
   "source": [
    "#creating a unique genre list\n",
    "uniq_genre = list(set(newlist_genre))"
   ]
  },
  {
   "cell_type": "code",
   "execution_count": 30,
   "metadata": {
    "ExecuteTime": {
     "end_time": "2021-01-15T05:35:25.372087Z",
     "start_time": "2021-01-15T05:35:25.344038Z"
    }
   },
   "outputs": [
    {
     "name": "stdout",
     "output_type": "stream",
     "text": [
      "They are total of 28 unique genre.\n"
     ]
    }
   ],
   "source": [
    "#check number of unique genre\n",
    "print('They are total of {} unique genre.'.format(len(set(newlist_genre))))"
   ]
  },
  {
   "cell_type": "markdown",
   "metadata": {},
   "source": [
    "We will build a new dataframe with extra columns where each genre will get its' own column. Each movie is then match with their genre in a 1 for true, 0 for false (no match) fashion."
   ]
  },
  {
   "cell_type": "code",
   "execution_count": 31,
   "metadata": {
    "ExecuteTime": {
     "end_time": "2021-01-15T05:37:06.937857Z",
     "start_time": "2021-01-15T05:35:25.960606Z"
    }
   },
   "outputs": [],
   "source": [
    "#creating a new dataframe with each unique genre having a column and counter for match\n",
    "for genre_1 in uniq_genre:\n",
    "    dfbasic[genre_1] = dfbasic.apply(lambda x: 1 if genre_1 in x['genres'] else 0, axis=1)"
   ]
  },
  {
   "cell_type": "code",
   "execution_count": 32,
   "metadata": {
    "ExecuteTime": {
     "end_time": "2021-01-15T05:37:07.903031Z",
     "start_time": "2021-01-15T05:37:07.863641Z"
    }
   },
   "outputs": [
    {
     "data": {
      "text/html": [
       "<div>\n",
       "<style scoped>\n",
       "    .dataframe tbody tr th:only-of-type {\n",
       "        vertical-align: middle;\n",
       "    }\n",
       "\n",
       "    .dataframe tbody tr th {\n",
       "        vertical-align: top;\n",
       "    }\n",
       "\n",
       "    .dataframe thead th {\n",
       "        text-align: right;\n",
       "    }\n",
       "</style>\n",
       "<table border=\"1\" class=\"dataframe\">\n",
       "  <thead>\n",
       "    <tr style=\"text-align: right;\">\n",
       "      <th></th>\n",
       "      <th>tconst</th>\n",
       "      <th>original_title</th>\n",
       "      <th>start_year</th>\n",
       "      <th>genres</th>\n",
       "      <th>Fantasy</th>\n",
       "      <th>Documentary</th>\n",
       "      <th>Crime</th>\n",
       "      <th>History</th>\n",
       "      <th>Reality-TV</th>\n",
       "      <th>Western</th>\n",
       "      <th>...</th>\n",
       "      <th>Comedy</th>\n",
       "      <th>War</th>\n",
       "      <th>Talk-Show</th>\n",
       "      <th>Music</th>\n",
       "      <th>Horror</th>\n",
       "      <th>Short</th>\n",
       "      <th>Game-Show</th>\n",
       "      <th>Romance</th>\n",
       "      <th>Action</th>\n",
       "      <th>News</th>\n",
       "    </tr>\n",
       "  </thead>\n",
       "  <tbody>\n",
       "    <tr>\n",
       "      <td>0</td>\n",
       "      <td>tt0063540</td>\n",
       "      <td>Sunghursh</td>\n",
       "      <td>2013</td>\n",
       "      <td>Action,Crime,Drama</td>\n",
       "      <td>0</td>\n",
       "      <td>0</td>\n",
       "      <td>1</td>\n",
       "      <td>0</td>\n",
       "      <td>0</td>\n",
       "      <td>0</td>\n",
       "      <td>...</td>\n",
       "      <td>0</td>\n",
       "      <td>0</td>\n",
       "      <td>0</td>\n",
       "      <td>0</td>\n",
       "      <td>0</td>\n",
       "      <td>0</td>\n",
       "      <td>0</td>\n",
       "      <td>0</td>\n",
       "      <td>1</td>\n",
       "      <td>0</td>\n",
       "    </tr>\n",
       "    <tr>\n",
       "      <td>1</td>\n",
       "      <td>tt0066787</td>\n",
       "      <td>Ashad Ka Ek Din</td>\n",
       "      <td>2019</td>\n",
       "      <td>Biography,Drama</td>\n",
       "      <td>0</td>\n",
       "      <td>0</td>\n",
       "      <td>0</td>\n",
       "      <td>0</td>\n",
       "      <td>0</td>\n",
       "      <td>0</td>\n",
       "      <td>...</td>\n",
       "      <td>0</td>\n",
       "      <td>0</td>\n",
       "      <td>0</td>\n",
       "      <td>0</td>\n",
       "      <td>0</td>\n",
       "      <td>0</td>\n",
       "      <td>0</td>\n",
       "      <td>0</td>\n",
       "      <td>0</td>\n",
       "      <td>0</td>\n",
       "    </tr>\n",
       "    <tr>\n",
       "      <td>2</td>\n",
       "      <td>tt0069049</td>\n",
       "      <td>The Other Side of the Wind</td>\n",
       "      <td>2018</td>\n",
       "      <td>Drama</td>\n",
       "      <td>0</td>\n",
       "      <td>0</td>\n",
       "      <td>0</td>\n",
       "      <td>0</td>\n",
       "      <td>0</td>\n",
       "      <td>0</td>\n",
       "      <td>...</td>\n",
       "      <td>0</td>\n",
       "      <td>0</td>\n",
       "      <td>0</td>\n",
       "      <td>0</td>\n",
       "      <td>0</td>\n",
       "      <td>0</td>\n",
       "      <td>0</td>\n",
       "      <td>0</td>\n",
       "      <td>0</td>\n",
       "      <td>0</td>\n",
       "    </tr>\n",
       "    <tr>\n",
       "      <td>3</td>\n",
       "      <td>tt0069204</td>\n",
       "      <td>Sabse Bada Sukh</td>\n",
       "      <td>2018</td>\n",
       "      <td>Comedy,Drama</td>\n",
       "      <td>0</td>\n",
       "      <td>0</td>\n",
       "      <td>0</td>\n",
       "      <td>0</td>\n",
       "      <td>0</td>\n",
       "      <td>0</td>\n",
       "      <td>...</td>\n",
       "      <td>1</td>\n",
       "      <td>0</td>\n",
       "      <td>0</td>\n",
       "      <td>0</td>\n",
       "      <td>0</td>\n",
       "      <td>0</td>\n",
       "      <td>0</td>\n",
       "      <td>0</td>\n",
       "      <td>0</td>\n",
       "      <td>0</td>\n",
       "    </tr>\n",
       "    <tr>\n",
       "      <td>4</td>\n",
       "      <td>tt0100275</td>\n",
       "      <td>La Telenovela Errante</td>\n",
       "      <td>2017</td>\n",
       "      <td>Comedy,Drama,Fantasy</td>\n",
       "      <td>1</td>\n",
       "      <td>0</td>\n",
       "      <td>0</td>\n",
       "      <td>0</td>\n",
       "      <td>0</td>\n",
       "      <td>0</td>\n",
       "      <td>...</td>\n",
       "      <td>1</td>\n",
       "      <td>0</td>\n",
       "      <td>0</td>\n",
       "      <td>0</td>\n",
       "      <td>0</td>\n",
       "      <td>0</td>\n",
       "      <td>0</td>\n",
       "      <td>0</td>\n",
       "      <td>0</td>\n",
       "      <td>0</td>\n",
       "    </tr>\n",
       "  </tbody>\n",
       "</table>\n",
       "<p>5 rows × 32 columns</p>\n",
       "</div>"
      ],
      "text/plain": [
       "      tconst              original_title  start_year                genres  \\\n",
       "0  tt0063540                   Sunghursh        2013    Action,Crime,Drama   \n",
       "1  tt0066787             Ashad Ka Ek Din        2019       Biography,Drama   \n",
       "2  tt0069049  The Other Side of the Wind        2018                 Drama   \n",
       "3  tt0069204             Sabse Bada Sukh        2018          Comedy,Drama   \n",
       "4  tt0100275       La Telenovela Errante        2017  Comedy,Drama,Fantasy   \n",
       "\n",
       "   Fantasy  Documentary  Crime  History  Reality-TV  Western  ...  Comedy  \\\n",
       "0        0            0      1        0           0        0  ...       0   \n",
       "1        0            0      0        0           0        0  ...       0   \n",
       "2        0            0      0        0           0        0  ...       0   \n",
       "3        0            0      0        0           0        0  ...       1   \n",
       "4        1            0      0        0           0        0  ...       1   \n",
       "\n",
       "   War  Talk-Show  Music  Horror  Short  Game-Show  Romance  Action  News  \n",
       "0    0          0      0       0      0          0        0       1     0  \n",
       "1    0          0      0       0      0          0        0       0     0  \n",
       "2    0          0      0       0      0          0        0       0     0  \n",
       "3    0          0      0       0      0          0        0       0     0  \n",
       "4    0          0      0       0      0          0        0       0     0  \n",
       "\n",
       "[5 rows x 32 columns]"
      ]
     },
     "execution_count": 32,
     "metadata": {},
     "output_type": "execute_result"
    }
   ],
   "source": [
    "#preview new dataframe\n",
    "dfbasic.head()"
   ]
  },
  {
   "cell_type": "markdown",
   "metadata": {},
   "source": [
    "From the previous exploration we noticed that the data after year 2018 shows unusual low count, it is most likely not complete since the data was collected a little bit around late 2019 to early 2020. Also, with the Covid going on, the 2020 data is not as reliable because viewers are probably streaming movies as home more than visiting the theater/ cinema."
   ]
  },
  {
   "cell_type": "code",
   "execution_count": 33,
   "metadata": {
    "ExecuteTime": {
     "end_time": "2021-01-15T05:37:09.570177Z",
     "start_time": "2021-01-15T05:37:09.467297Z"
    }
   },
   "outputs": [],
   "source": [
    "#dropping data after 2018\n",
    "dfbasic.drop(dfbasic[dfbasic['start_year'] > 2018].index, inplace = True)"
   ]
  },
  {
   "cell_type": "code",
   "execution_count": 34,
   "metadata": {
    "ExecuteTime": {
     "end_time": "2021-01-15T05:37:10.193995Z",
     "start_time": "2021-01-15T05:37:10.087876Z"
    }
   },
   "outputs": [
    {
     "data": {
      "text/html": [
       "<div>\n",
       "<style scoped>\n",
       "    .dataframe tbody tr th:only-of-type {\n",
       "        vertical-align: middle;\n",
       "    }\n",
       "\n",
       "    .dataframe tbody tr th {\n",
       "        vertical-align: top;\n",
       "    }\n",
       "\n",
       "    .dataframe thead th {\n",
       "        text-align: right;\n",
       "    }\n",
       "</style>\n",
       "<table border=\"1\" class=\"dataframe\">\n",
       "  <thead>\n",
       "    <tr style=\"text-align: right;\">\n",
       "      <th></th>\n",
       "      <th>Fantasy</th>\n",
       "      <th>Documentary</th>\n",
       "      <th>Crime</th>\n",
       "      <th>History</th>\n",
       "      <th>Reality-TV</th>\n",
       "      <th>Western</th>\n",
       "      <th>Thriller</th>\n",
       "      <th>Sport</th>\n",
       "      <th>Drama</th>\n",
       "      <th>Biography</th>\n",
       "      <th>...</th>\n",
       "      <th>Comedy</th>\n",
       "      <th>War</th>\n",
       "      <th>Talk-Show</th>\n",
       "      <th>Music</th>\n",
       "      <th>Horror</th>\n",
       "      <th>Short</th>\n",
       "      <th>Game-Show</th>\n",
       "      <th>Romance</th>\n",
       "      <th>Action</th>\n",
       "      <th>News</th>\n",
       "    </tr>\n",
       "    <tr>\n",
       "      <th>start_year</th>\n",
       "      <th></th>\n",
       "      <th></th>\n",
       "      <th></th>\n",
       "      <th></th>\n",
       "      <th></th>\n",
       "      <th></th>\n",
       "      <th></th>\n",
       "      <th></th>\n",
       "      <th></th>\n",
       "      <th></th>\n",
       "      <th></th>\n",
       "      <th></th>\n",
       "      <th></th>\n",
       "      <th></th>\n",
       "      <th></th>\n",
       "      <th></th>\n",
       "      <th></th>\n",
       "      <th></th>\n",
       "      <th></th>\n",
       "      <th></th>\n",
       "      <th></th>\n",
       "    </tr>\n",
       "  </thead>\n",
       "  <tbody>\n",
       "    <tr>\n",
       "      <td>2010</td>\n",
       "      <td>266</td>\n",
       "      <td>4327</td>\n",
       "      <td>527</td>\n",
       "      <td>597</td>\n",
       "      <td>7</td>\n",
       "      <td>37</td>\n",
       "      <td>805</td>\n",
       "      <td>184</td>\n",
       "      <td>4189</td>\n",
       "      <td>778</td>\n",
       "      <td>...</td>\n",
       "      <td>2142</td>\n",
       "      <td>139</td>\n",
       "      <td>3</td>\n",
       "      <td>517</td>\n",
       "      <td>755</td>\n",
       "      <td>0</td>\n",
       "      <td>0</td>\n",
       "      <td>829</td>\n",
       "      <td>874</td>\n",
       "      <td>175</td>\n",
       "    </tr>\n",
       "    <tr>\n",
       "      <td>2011</td>\n",
       "      <td>302</td>\n",
       "      <td>4678</td>\n",
       "      <td>553</td>\n",
       "      <td>635</td>\n",
       "      <td>0</td>\n",
       "      <td>43</td>\n",
       "      <td>856</td>\n",
       "      <td>211</td>\n",
       "      <td>4360</td>\n",
       "      <td>877</td>\n",
       "      <td>...</td>\n",
       "      <td>2271</td>\n",
       "      <td>134</td>\n",
       "      <td>4</td>\n",
       "      <td>604</td>\n",
       "      <td>858</td>\n",
       "      <td>1</td>\n",
       "      <td>0</td>\n",
       "      <td>818</td>\n",
       "      <td>880</td>\n",
       "      <td>197</td>\n",
       "    </tr>\n",
       "    <tr>\n",
       "      <td>2012</td>\n",
       "      <td>306</td>\n",
       "      <td>5096</td>\n",
       "      <td>571</td>\n",
       "      <td>748</td>\n",
       "      <td>5</td>\n",
       "      <td>44</td>\n",
       "      <td>947</td>\n",
       "      <td>213</td>\n",
       "      <td>4593</td>\n",
       "      <td>976</td>\n",
       "      <td>...</td>\n",
       "      <td>2420</td>\n",
       "      <td>130</td>\n",
       "      <td>4</td>\n",
       "      <td>635</td>\n",
       "      <td>932</td>\n",
       "      <td>1</td>\n",
       "      <td>0</td>\n",
       "      <td>830</td>\n",
       "      <td>889</td>\n",
       "      <td>239</td>\n",
       "    </tr>\n",
       "    <tr>\n",
       "      <td>2013</td>\n",
       "      <td>314</td>\n",
       "      <td>5392</td>\n",
       "      <td>685</td>\n",
       "      <td>871</td>\n",
       "      <td>9</td>\n",
       "      <td>37</td>\n",
       "      <td>1130</td>\n",
       "      <td>265</td>\n",
       "      <td>5061</td>\n",
       "      <td>1209</td>\n",
       "      <td>...</td>\n",
       "      <td>2578</td>\n",
       "      <td>114</td>\n",
       "      <td>4</td>\n",
       "      <td>640</td>\n",
       "      <td>982</td>\n",
       "      <td>0</td>\n",
       "      <td>1</td>\n",
       "      <td>985</td>\n",
       "      <td>959</td>\n",
       "      <td>286</td>\n",
       "    </tr>\n",
       "    <tr>\n",
       "      <td>2014</td>\n",
       "      <td>343</td>\n",
       "      <td>5760</td>\n",
       "      <td>703</td>\n",
       "      <td>889</td>\n",
       "      <td>7</td>\n",
       "      <td>59</td>\n",
       "      <td>1203</td>\n",
       "      <td>269</td>\n",
       "      <td>5107</td>\n",
       "      <td>1309</td>\n",
       "      <td>...</td>\n",
       "      <td>2693</td>\n",
       "      <td>166</td>\n",
       "      <td>4</td>\n",
       "      <td>681</td>\n",
       "      <td>1058</td>\n",
       "      <td>0</td>\n",
       "      <td>1</td>\n",
       "      <td>1078</td>\n",
       "      <td>1002</td>\n",
       "      <td>317</td>\n",
       "    </tr>\n",
       "    <tr>\n",
       "      <td>2015</td>\n",
       "      <td>364</td>\n",
       "      <td>5757</td>\n",
       "      <td>665</td>\n",
       "      <td>660</td>\n",
       "      <td>19</td>\n",
       "      <td>51</td>\n",
       "      <td>1167</td>\n",
       "      <td>237</td>\n",
       "      <td>5031</td>\n",
       "      <td>899</td>\n",
       "      <td>...</td>\n",
       "      <td>2630</td>\n",
       "      <td>163</td>\n",
       "      <td>11</td>\n",
       "      <td>597</td>\n",
       "      <td>1045</td>\n",
       "      <td>0</td>\n",
       "      <td>0</td>\n",
       "      <td>1018</td>\n",
       "      <td>993</td>\n",
       "      <td>155</td>\n",
       "    </tr>\n",
       "    <tr>\n",
       "      <td>2016</td>\n",
       "      <td>418</td>\n",
       "      <td>5743</td>\n",
       "      <td>767</td>\n",
       "      <td>541</td>\n",
       "      <td>18</td>\n",
       "      <td>35</td>\n",
       "      <td>1225</td>\n",
       "      <td>254</td>\n",
       "      <td>5052</td>\n",
       "      <td>770</td>\n",
       "      <td>...</td>\n",
       "      <td>2694</td>\n",
       "      <td>157</td>\n",
       "      <td>8</td>\n",
       "      <td>536</td>\n",
       "      <td>1170</td>\n",
       "      <td>0</td>\n",
       "      <td>0</td>\n",
       "      <td>998</td>\n",
       "      <td>1108</td>\n",
       "      <td>50</td>\n",
       "    </tr>\n",
       "    <tr>\n",
       "      <td>2017</td>\n",
       "      <td>361</td>\n",
       "      <td>5793</td>\n",
       "      <td>697</td>\n",
       "      <td>488</td>\n",
       "      <td>15</td>\n",
       "      <td>49</td>\n",
       "      <td>1180</td>\n",
       "      <td>211</td>\n",
       "      <td>5044</td>\n",
       "      <td>705</td>\n",
       "      <td>...</td>\n",
       "      <td>2642</td>\n",
       "      <td>149</td>\n",
       "      <td>2</td>\n",
       "      <td>541</td>\n",
       "      <td>1218</td>\n",
       "      <td>4</td>\n",
       "      <td>1</td>\n",
       "      <td>896</td>\n",
       "      <td>1159</td>\n",
       "      <td>38</td>\n",
       "    </tr>\n",
       "    <tr>\n",
       "      <td>2018</td>\n",
       "      <td>398</td>\n",
       "      <td>5000</td>\n",
       "      <td>653</td>\n",
       "      <td>418</td>\n",
       "      <td>10</td>\n",
       "      <td>50</td>\n",
       "      <td>1296</td>\n",
       "      <td>184</td>\n",
       "      <td>5030</td>\n",
       "      <td>551</td>\n",
       "      <td>...</td>\n",
       "      <td>2657</td>\n",
       "      <td>129</td>\n",
       "      <td>7</td>\n",
       "      <td>457</td>\n",
       "      <td>1185</td>\n",
       "      <td>4</td>\n",
       "      <td>0</td>\n",
       "      <td>884</td>\n",
       "      <td>1030</td>\n",
       "      <td>29</td>\n",
       "    </tr>\n",
       "  </tbody>\n",
       "</table>\n",
       "<p>9 rows × 28 columns</p>\n",
       "</div>"
      ],
      "text/plain": [
       "            Fantasy  Documentary  Crime  History  Reality-TV  Western  \\\n",
       "start_year                                                              \n",
       "2010            266         4327    527      597           7       37   \n",
       "2011            302         4678    553      635           0       43   \n",
       "2012            306         5096    571      748           5       44   \n",
       "2013            314         5392    685      871           9       37   \n",
       "2014            343         5760    703      889           7       59   \n",
       "2015            364         5757    665      660          19       51   \n",
       "2016            418         5743    767      541          18       35   \n",
       "2017            361         5793    697      488          15       49   \n",
       "2018            398         5000    653      418          10       50   \n",
       "\n",
       "            Thriller  Sport  Drama  Biography  ...  Comedy  War  Talk-Show  \\\n",
       "start_year                                     ...                           \n",
       "2010             805    184   4189        778  ...    2142  139          3   \n",
       "2011             856    211   4360        877  ...    2271  134          4   \n",
       "2012             947    213   4593        976  ...    2420  130          4   \n",
       "2013            1130    265   5061       1209  ...    2578  114          4   \n",
       "2014            1203    269   5107       1309  ...    2693  166          4   \n",
       "2015            1167    237   5031        899  ...    2630  163         11   \n",
       "2016            1225    254   5052        770  ...    2694  157          8   \n",
       "2017            1180    211   5044        705  ...    2642  149          2   \n",
       "2018            1296    184   5030        551  ...    2657  129          7   \n",
       "\n",
       "            Music  Horror  Short  Game-Show  Romance  Action  News  \n",
       "start_year                                                          \n",
       "2010          517     755      0          0      829     874   175  \n",
       "2011          604     858      1          0      818     880   197  \n",
       "2012          635     932      1          0      830     889   239  \n",
       "2013          640     982      0          1      985     959   286  \n",
       "2014          681    1058      0          1     1078    1002   317  \n",
       "2015          597    1045      0          0     1018     993   155  \n",
       "2016          536    1170      0          0      998    1108    50  \n",
       "2017          541    1218      4          1      896    1159    38  \n",
       "2018          457    1185      4          0      884    1030    29  \n",
       "\n",
       "[9 rows x 28 columns]"
      ]
     },
     "execution_count": 34,
     "metadata": {},
     "output_type": "execute_result"
    }
   ],
   "source": [
    "dfbasic.groupby(['start_year']).sum()"
   ]
  },
  {
   "cell_type": "code",
   "execution_count": 35,
   "metadata": {
    "ExecuteTime": {
     "end_time": "2021-01-15T05:37:10.463014Z",
     "start_time": "2021-01-15T05:37:10.202117Z"
    }
   },
   "outputs": [],
   "source": [
    "#resetting index of dataframe\n",
    "dfbasic_all = dfbasic.groupby(['start_year']).sum()"
   ]
  },
  {
   "cell_type": "code",
   "execution_count": 36,
   "metadata": {
    "ExecuteTime": {
     "end_time": "2021-01-15T05:37:13.343391Z",
     "start_time": "2021-01-15T05:37:13.236393Z"
    }
   },
   "outputs": [
    {
     "data": {
      "text/html": [
       "<div>\n",
       "<style scoped>\n",
       "    .dataframe tbody tr th:only-of-type {\n",
       "        vertical-align: middle;\n",
       "    }\n",
       "\n",
       "    .dataframe tbody tr th {\n",
       "        vertical-align: top;\n",
       "    }\n",
       "\n",
       "    .dataframe thead th {\n",
       "        text-align: right;\n",
       "    }\n",
       "</style>\n",
       "<table border=\"1\" class=\"dataframe\">\n",
       "  <thead>\n",
       "    <tr style=\"text-align: right;\">\n",
       "      <th></th>\n",
       "      <th>Fantasy</th>\n",
       "      <th>Documentary</th>\n",
       "      <th>Crime</th>\n",
       "      <th>History</th>\n",
       "      <th>Reality-TV</th>\n",
       "      <th>Western</th>\n",
       "      <th>Thriller</th>\n",
       "      <th>Sport</th>\n",
       "      <th>Drama</th>\n",
       "      <th>Biography</th>\n",
       "      <th>...</th>\n",
       "      <th>Comedy</th>\n",
       "      <th>War</th>\n",
       "      <th>Talk-Show</th>\n",
       "      <th>Music</th>\n",
       "      <th>Horror</th>\n",
       "      <th>Short</th>\n",
       "      <th>Game-Show</th>\n",
       "      <th>Romance</th>\n",
       "      <th>Action</th>\n",
       "      <th>News</th>\n",
       "    </tr>\n",
       "    <tr>\n",
       "      <th>start_year</th>\n",
       "      <th></th>\n",
       "      <th></th>\n",
       "      <th></th>\n",
       "      <th></th>\n",
       "      <th></th>\n",
       "      <th></th>\n",
       "      <th></th>\n",
       "      <th></th>\n",
       "      <th></th>\n",
       "      <th></th>\n",
       "      <th></th>\n",
       "      <th></th>\n",
       "      <th></th>\n",
       "      <th></th>\n",
       "      <th></th>\n",
       "      <th></th>\n",
       "      <th></th>\n",
       "      <th></th>\n",
       "      <th></th>\n",
       "      <th></th>\n",
       "      <th></th>\n",
       "    </tr>\n",
       "  </thead>\n",
       "  <tbody>\n",
       "    <tr>\n",
       "      <td>2010</td>\n",
       "      <td>266</td>\n",
       "      <td>4327</td>\n",
       "      <td>527</td>\n",
       "      <td>597</td>\n",
       "      <td>7</td>\n",
       "      <td>37</td>\n",
       "      <td>805</td>\n",
       "      <td>184</td>\n",
       "      <td>4189</td>\n",
       "      <td>778</td>\n",
       "      <td>...</td>\n",
       "      <td>2142</td>\n",
       "      <td>139</td>\n",
       "      <td>3</td>\n",
       "      <td>517</td>\n",
       "      <td>755</td>\n",
       "      <td>0</td>\n",
       "      <td>0</td>\n",
       "      <td>829</td>\n",
       "      <td>874</td>\n",
       "      <td>175</td>\n",
       "    </tr>\n",
       "    <tr>\n",
       "      <td>2011</td>\n",
       "      <td>302</td>\n",
       "      <td>4678</td>\n",
       "      <td>553</td>\n",
       "      <td>635</td>\n",
       "      <td>0</td>\n",
       "      <td>43</td>\n",
       "      <td>856</td>\n",
       "      <td>211</td>\n",
       "      <td>4360</td>\n",
       "      <td>877</td>\n",
       "      <td>...</td>\n",
       "      <td>2271</td>\n",
       "      <td>134</td>\n",
       "      <td>4</td>\n",
       "      <td>604</td>\n",
       "      <td>858</td>\n",
       "      <td>1</td>\n",
       "      <td>0</td>\n",
       "      <td>818</td>\n",
       "      <td>880</td>\n",
       "      <td>197</td>\n",
       "    </tr>\n",
       "    <tr>\n",
       "      <td>2012</td>\n",
       "      <td>306</td>\n",
       "      <td>5096</td>\n",
       "      <td>571</td>\n",
       "      <td>748</td>\n",
       "      <td>5</td>\n",
       "      <td>44</td>\n",
       "      <td>947</td>\n",
       "      <td>213</td>\n",
       "      <td>4593</td>\n",
       "      <td>976</td>\n",
       "      <td>...</td>\n",
       "      <td>2420</td>\n",
       "      <td>130</td>\n",
       "      <td>4</td>\n",
       "      <td>635</td>\n",
       "      <td>932</td>\n",
       "      <td>1</td>\n",
       "      <td>0</td>\n",
       "      <td>830</td>\n",
       "      <td>889</td>\n",
       "      <td>239</td>\n",
       "    </tr>\n",
       "    <tr>\n",
       "      <td>2013</td>\n",
       "      <td>314</td>\n",
       "      <td>5392</td>\n",
       "      <td>685</td>\n",
       "      <td>871</td>\n",
       "      <td>9</td>\n",
       "      <td>37</td>\n",
       "      <td>1130</td>\n",
       "      <td>265</td>\n",
       "      <td>5061</td>\n",
       "      <td>1209</td>\n",
       "      <td>...</td>\n",
       "      <td>2578</td>\n",
       "      <td>114</td>\n",
       "      <td>4</td>\n",
       "      <td>640</td>\n",
       "      <td>982</td>\n",
       "      <td>0</td>\n",
       "      <td>1</td>\n",
       "      <td>985</td>\n",
       "      <td>959</td>\n",
       "      <td>286</td>\n",
       "    </tr>\n",
       "    <tr>\n",
       "      <td>2014</td>\n",
       "      <td>343</td>\n",
       "      <td>5760</td>\n",
       "      <td>703</td>\n",
       "      <td>889</td>\n",
       "      <td>7</td>\n",
       "      <td>59</td>\n",
       "      <td>1203</td>\n",
       "      <td>269</td>\n",
       "      <td>5107</td>\n",
       "      <td>1309</td>\n",
       "      <td>...</td>\n",
       "      <td>2693</td>\n",
       "      <td>166</td>\n",
       "      <td>4</td>\n",
       "      <td>681</td>\n",
       "      <td>1058</td>\n",
       "      <td>0</td>\n",
       "      <td>1</td>\n",
       "      <td>1078</td>\n",
       "      <td>1002</td>\n",
       "      <td>317</td>\n",
       "    </tr>\n",
       "    <tr>\n",
       "      <td>2015</td>\n",
       "      <td>364</td>\n",
       "      <td>5757</td>\n",
       "      <td>665</td>\n",
       "      <td>660</td>\n",
       "      <td>19</td>\n",
       "      <td>51</td>\n",
       "      <td>1167</td>\n",
       "      <td>237</td>\n",
       "      <td>5031</td>\n",
       "      <td>899</td>\n",
       "      <td>...</td>\n",
       "      <td>2630</td>\n",
       "      <td>163</td>\n",
       "      <td>11</td>\n",
       "      <td>597</td>\n",
       "      <td>1045</td>\n",
       "      <td>0</td>\n",
       "      <td>0</td>\n",
       "      <td>1018</td>\n",
       "      <td>993</td>\n",
       "      <td>155</td>\n",
       "    </tr>\n",
       "    <tr>\n",
       "      <td>2016</td>\n",
       "      <td>418</td>\n",
       "      <td>5743</td>\n",
       "      <td>767</td>\n",
       "      <td>541</td>\n",
       "      <td>18</td>\n",
       "      <td>35</td>\n",
       "      <td>1225</td>\n",
       "      <td>254</td>\n",
       "      <td>5052</td>\n",
       "      <td>770</td>\n",
       "      <td>...</td>\n",
       "      <td>2694</td>\n",
       "      <td>157</td>\n",
       "      <td>8</td>\n",
       "      <td>536</td>\n",
       "      <td>1170</td>\n",
       "      <td>0</td>\n",
       "      <td>0</td>\n",
       "      <td>998</td>\n",
       "      <td>1108</td>\n",
       "      <td>50</td>\n",
       "    </tr>\n",
       "    <tr>\n",
       "      <td>2017</td>\n",
       "      <td>361</td>\n",
       "      <td>5793</td>\n",
       "      <td>697</td>\n",
       "      <td>488</td>\n",
       "      <td>15</td>\n",
       "      <td>49</td>\n",
       "      <td>1180</td>\n",
       "      <td>211</td>\n",
       "      <td>5044</td>\n",
       "      <td>705</td>\n",
       "      <td>...</td>\n",
       "      <td>2642</td>\n",
       "      <td>149</td>\n",
       "      <td>2</td>\n",
       "      <td>541</td>\n",
       "      <td>1218</td>\n",
       "      <td>4</td>\n",
       "      <td>1</td>\n",
       "      <td>896</td>\n",
       "      <td>1159</td>\n",
       "      <td>38</td>\n",
       "    </tr>\n",
       "    <tr>\n",
       "      <td>2018</td>\n",
       "      <td>398</td>\n",
       "      <td>5000</td>\n",
       "      <td>653</td>\n",
       "      <td>418</td>\n",
       "      <td>10</td>\n",
       "      <td>50</td>\n",
       "      <td>1296</td>\n",
       "      <td>184</td>\n",
       "      <td>5030</td>\n",
       "      <td>551</td>\n",
       "      <td>...</td>\n",
       "      <td>2657</td>\n",
       "      <td>129</td>\n",
       "      <td>7</td>\n",
       "      <td>457</td>\n",
       "      <td>1185</td>\n",
       "      <td>4</td>\n",
       "      <td>0</td>\n",
       "      <td>884</td>\n",
       "      <td>1030</td>\n",
       "      <td>29</td>\n",
       "    </tr>\n",
       "  </tbody>\n",
       "</table>\n",
       "<p>9 rows × 28 columns</p>\n",
       "</div>"
      ],
      "text/plain": [
       "            Fantasy  Documentary  Crime  History  Reality-TV  Western  \\\n",
       "start_year                                                              \n",
       "2010            266         4327    527      597           7       37   \n",
       "2011            302         4678    553      635           0       43   \n",
       "2012            306         5096    571      748           5       44   \n",
       "2013            314         5392    685      871           9       37   \n",
       "2014            343         5760    703      889           7       59   \n",
       "2015            364         5757    665      660          19       51   \n",
       "2016            418         5743    767      541          18       35   \n",
       "2017            361         5793    697      488          15       49   \n",
       "2018            398         5000    653      418          10       50   \n",
       "\n",
       "            Thriller  Sport  Drama  Biography  ...  Comedy  War  Talk-Show  \\\n",
       "start_year                                     ...                           \n",
       "2010             805    184   4189        778  ...    2142  139          3   \n",
       "2011             856    211   4360        877  ...    2271  134          4   \n",
       "2012             947    213   4593        976  ...    2420  130          4   \n",
       "2013            1130    265   5061       1209  ...    2578  114          4   \n",
       "2014            1203    269   5107       1309  ...    2693  166          4   \n",
       "2015            1167    237   5031        899  ...    2630  163         11   \n",
       "2016            1225    254   5052        770  ...    2694  157          8   \n",
       "2017            1180    211   5044        705  ...    2642  149          2   \n",
       "2018            1296    184   5030        551  ...    2657  129          7   \n",
       "\n",
       "            Music  Horror  Short  Game-Show  Romance  Action  News  \n",
       "start_year                                                          \n",
       "2010          517     755      0          0      829     874   175  \n",
       "2011          604     858      1          0      818     880   197  \n",
       "2012          635     932      1          0      830     889   239  \n",
       "2013          640     982      0          1      985     959   286  \n",
       "2014          681    1058      0          1     1078    1002   317  \n",
       "2015          597    1045      0          0     1018     993   155  \n",
       "2016          536    1170      0          0      998    1108    50  \n",
       "2017          541    1218      4          1      896    1159    38  \n",
       "2018          457    1185      4          0      884    1030    29  \n",
       "\n",
       "[9 rows x 28 columns]"
      ]
     },
     "execution_count": 36,
     "metadata": {},
     "output_type": "execute_result"
    }
   ],
   "source": [
    "dfbasic_all"
   ]
  },
  {
   "cell_type": "code",
   "execution_count": 37,
   "metadata": {
    "ExecuteTime": {
     "end_time": "2021-01-15T05:37:16.534364Z",
     "start_time": "2021-01-15T05:37:16.002240Z"
    }
   },
   "outputs": [],
   "source": [
    "#looking into the top cumulative genres over the years\n",
    "dfbasic_cumul = dfbasic.groupby(['start_year']).sum().sum().sort_values(ascending = False)"
   ]
  },
  {
   "cell_type": "code",
   "execution_count": 38,
   "metadata": {
    "ExecuteTime": {
     "end_time": "2021-01-15T05:37:18.857685Z",
     "start_time": "2021-01-15T05:37:18.778164Z"
    }
   },
   "outputs": [
    {
     "data": {
      "text/plain": [
       "Documentary    47546\n",
       "Drama          43467\n",
       "Comedy         22727\n",
       "Thriller        9809\n",
       "Horror          9203\n",
       "Action          8894\n",
       "Romance         8336\n",
       "Biography       8074\n",
       "History         5847\n",
       "Crime           5821\n",
       "Adventure       5755\n",
       "Family          5618\n",
       "Music           5208\n",
       "missing         4550\n",
       "Mystery         4004\n",
       "Fantasy         3072\n",
       "Sci-Fi          2868\n",
       "Animation       2451\n",
       "Sport           2028\n",
       "News            1486\n",
       "Musical         1291\n",
       "War             1281\n",
       "Western          405\n",
       "Reality-TV        90\n",
       "Talk-Show         47\n",
       "Adult             24\n",
       "Short             10\n",
       "Game-Show          3\n",
       "dtype: int64"
      ]
     },
     "execution_count": 38,
     "metadata": {},
     "output_type": "execute_result"
    }
   ],
   "source": [
    "dfbasic_cumul"
   ]
  },
  {
   "cell_type": "code",
   "execution_count": 39,
   "metadata": {
    "ExecuteTime": {
     "end_time": "2021-01-15T05:37:21.327150Z",
     "start_time": "2021-01-15T05:37:21.305706Z"
    }
   },
   "outputs": [],
   "source": [
    "#picking the genres that has more than 8000 cumulative accounts over the 9 years\n",
    "Genre_pres = list(dfbasic_cumul[dfbasic_cumul > 8000].index)"
   ]
  },
  {
   "cell_type": "code",
   "execution_count": 40,
   "metadata": {
    "ExecuteTime": {
     "end_time": "2021-01-15T05:37:22.859355Z",
     "start_time": "2021-01-15T05:37:22.775509Z"
    }
   },
   "outputs": [],
   "source": [
    "#creating a final dataframe of top genres (> 8000 accounts) over the 9 years\n",
    "dfbasic_pres = dfbasic.groupby(['start_year']).sum()[Genre_pres]"
   ]
  },
  {
   "cell_type": "markdown",
   "metadata": {},
   "source": [
    "### Exploring tn_budgets dataframe (Q2: Movie Release Dates)"
   ]
  },
  {
   "cell_type": "markdown",
   "metadata": {},
   "source": [
    "Doing a quick count of the movies accross the years, grouping by the month they were produced. Here we are trying to capture the frequency of \"peak months\" where producers like to release their movies. Also, by doing the mean for prodution budgets and earnings we get to see if there is a \"movie season\" where movie watchers like to visit the theaters."
   ]
  },
  {
   "cell_type": "code",
   "execution_count": 41,
   "metadata": {
    "ExecuteTime": {
     "end_time": "2021-01-15T05:37:24.152269Z",
     "start_time": "2021-01-15T05:37:24.036145Z"
    }
   },
   "outputs": [
    {
     "data": {
      "text/html": [
       "<div>\n",
       "<style scoped>\n",
       "    .dataframe tbody tr th:only-of-type {\n",
       "        vertical-align: middle;\n",
       "    }\n",
       "\n",
       "    .dataframe tbody tr th {\n",
       "        vertical-align: top;\n",
       "    }\n",
       "\n",
       "    .dataframe thead th {\n",
       "        text-align: right;\n",
       "    }\n",
       "</style>\n",
       "<table border=\"1\" class=\"dataframe\">\n",
       "  <thead>\n",
       "    <tr style=\"text-align: right;\">\n",
       "      <th></th>\n",
       "      <th>movie</th>\n",
       "      <th>production_budget</th>\n",
       "      <th>domestic_gross</th>\n",
       "      <th>worldwide_gross</th>\n",
       "      <th>release_year</th>\n",
       "    </tr>\n",
       "    <tr>\n",
       "      <th>release_month</th>\n",
       "      <th></th>\n",
       "      <th></th>\n",
       "      <th></th>\n",
       "      <th></th>\n",
       "      <th></th>\n",
       "    </tr>\n",
       "  </thead>\n",
       "  <tbody>\n",
       "    <tr>\n",
       "      <td>1</td>\n",
       "      <td>347</td>\n",
       "      <td>347</td>\n",
       "      <td>347</td>\n",
       "      <td>347</td>\n",
       "      <td>347</td>\n",
       "    </tr>\n",
       "    <tr>\n",
       "      <td>2</td>\n",
       "      <td>392</td>\n",
       "      <td>392</td>\n",
       "      <td>392</td>\n",
       "      <td>392</td>\n",
       "      <td>392</td>\n",
       "    </tr>\n",
       "    <tr>\n",
       "      <td>3</td>\n",
       "      <td>470</td>\n",
       "      <td>470</td>\n",
       "      <td>470</td>\n",
       "      <td>470</td>\n",
       "      <td>470</td>\n",
       "    </tr>\n",
       "    <tr>\n",
       "      <td>4</td>\n",
       "      <td>454</td>\n",
       "      <td>454</td>\n",
       "      <td>454</td>\n",
       "      <td>454</td>\n",
       "      <td>454</td>\n",
       "    </tr>\n",
       "    <tr>\n",
       "      <td>5</td>\n",
       "      <td>407</td>\n",
       "      <td>407</td>\n",
       "      <td>407</td>\n",
       "      <td>407</td>\n",
       "      <td>407</td>\n",
       "    </tr>\n",
       "    <tr>\n",
       "      <td>6</td>\n",
       "      <td>479</td>\n",
       "      <td>479</td>\n",
       "      <td>479</td>\n",
       "      <td>479</td>\n",
       "      <td>479</td>\n",
       "    </tr>\n",
       "    <tr>\n",
       "      <td>7</td>\n",
       "      <td>440</td>\n",
       "      <td>440</td>\n",
       "      <td>440</td>\n",
       "      <td>440</td>\n",
       "      <td>440</td>\n",
       "    </tr>\n",
       "    <tr>\n",
       "      <td>8</td>\n",
       "      <td>496</td>\n",
       "      <td>496</td>\n",
       "      <td>496</td>\n",
       "      <td>496</td>\n",
       "      <td>496</td>\n",
       "    </tr>\n",
       "    <tr>\n",
       "      <td>9</td>\n",
       "      <td>493</td>\n",
       "      <td>493</td>\n",
       "      <td>493</td>\n",
       "      <td>493</td>\n",
       "      <td>493</td>\n",
       "    </tr>\n",
       "    <tr>\n",
       "      <td>10</td>\n",
       "      <td>573</td>\n",
       "      <td>573</td>\n",
       "      <td>573</td>\n",
       "      <td>573</td>\n",
       "      <td>573</td>\n",
       "    </tr>\n",
       "    <tr>\n",
       "      <td>11</td>\n",
       "      <td>486</td>\n",
       "      <td>486</td>\n",
       "      <td>486</td>\n",
       "      <td>486</td>\n",
       "      <td>486</td>\n",
       "    </tr>\n",
       "    <tr>\n",
       "      <td>12</td>\n",
       "      <td>745</td>\n",
       "      <td>745</td>\n",
       "      <td>745</td>\n",
       "      <td>745</td>\n",
       "      <td>745</td>\n",
       "    </tr>\n",
       "  </tbody>\n",
       "</table>\n",
       "</div>"
      ],
      "text/plain": [
       "               movie  production_budget  domestic_gross  worldwide_gross  \\\n",
       "release_month                                                              \n",
       "1                347                347             347              347   \n",
       "2                392                392             392              392   \n",
       "3                470                470             470              470   \n",
       "4                454                454             454              454   \n",
       "5                407                407             407              407   \n",
       "6                479                479             479              479   \n",
       "7                440                440             440              440   \n",
       "8                496                496             496              496   \n",
       "9                493                493             493              493   \n",
       "10               573                573             573              573   \n",
       "11               486                486             486              486   \n",
       "12               745                745             745              745   \n",
       "\n",
       "               release_year  \n",
       "release_month                \n",
       "1                       347  \n",
       "2                       392  \n",
       "3                       470  \n",
       "4                       454  \n",
       "5                       407  \n",
       "6                       479  \n",
       "7                       440  \n",
       "8                       496  \n",
       "9                       493  \n",
       "10                      573  \n",
       "11                      486  \n",
       "12                      745  "
      ]
     },
     "execution_count": 41,
     "metadata": {},
     "output_type": "execute_result"
    }
   ],
   "source": [
    "# quick count of total movies released each month\n",
    "tn_budgets_clean.groupby(['release_month']).count()"
   ]
  },
  {
   "cell_type": "code",
   "execution_count": 55,
   "metadata": {
    "ExecuteTime": {
     "end_time": "2021-01-15T06:03:26.041533Z",
     "start_time": "2021-01-15T06:03:26.033502Z"
    }
   },
   "outputs": [],
   "source": [
    "# calculating mean of prodution budget, domestic gross and worldwide gross for each months since 2010-2018\n",
    "tn_budgets_pres2 = tn_budgets_clean.groupby(['release_month']).mean()"
   ]
  },
  {
   "cell_type": "code",
   "execution_count": 56,
   "metadata": {
    "ExecuteTime": {
     "end_time": "2021-01-15T06:03:26.930339Z",
     "start_time": "2021-01-15T06:03:26.916288Z"
    }
   },
   "outputs": [
    {
     "data": {
      "text/html": [
       "<div>\n",
       "<style scoped>\n",
       "    .dataframe tbody tr th:only-of-type {\n",
       "        vertical-align: middle;\n",
       "    }\n",
       "\n",
       "    .dataframe tbody tr th {\n",
       "        vertical-align: top;\n",
       "    }\n",
       "\n",
       "    .dataframe thead th {\n",
       "        text-align: right;\n",
       "    }\n",
       "</style>\n",
       "<table border=\"1\" class=\"dataframe\">\n",
       "  <thead>\n",
       "    <tr style=\"text-align: right;\">\n",
       "      <th></th>\n",
       "      <th>production_budget</th>\n",
       "      <th>domestic_gross</th>\n",
       "      <th>worldwide_gross</th>\n",
       "    </tr>\n",
       "    <tr>\n",
       "      <th>release_month</th>\n",
       "      <th></th>\n",
       "      <th></th>\n",
       "      <th></th>\n",
       "    </tr>\n",
       "  </thead>\n",
       "  <tbody>\n",
       "    <tr>\n",
       "      <td>1</td>\n",
       "      <td>2.084349e+07</td>\n",
       "      <td>2.394962e+07</td>\n",
       "      <td>4.656382e+07</td>\n",
       "    </tr>\n",
       "    <tr>\n",
       "      <td>2</td>\n",
       "      <td>2.804642e+07</td>\n",
       "      <td>3.541465e+07</td>\n",
       "      <td>7.154453e+07</td>\n",
       "    </tr>\n",
       "    <tr>\n",
       "      <td>3</td>\n",
       "      <td>3.078208e+07</td>\n",
       "      <td>3.857299e+07</td>\n",
       "      <td>8.063337e+07</td>\n",
       "    </tr>\n",
       "    <tr>\n",
       "      <td>4</td>\n",
       "      <td>2.380283e+07</td>\n",
       "      <td>2.732840e+07</td>\n",
       "      <td>5.992026e+07</td>\n",
       "    </tr>\n",
       "    <tr>\n",
       "      <td>5</td>\n",
       "      <td>4.713520e+07</td>\n",
       "      <td>6.669795e+07</td>\n",
       "      <td>1.622680e+08</td>\n",
       "    </tr>\n",
       "    <tr>\n",
       "      <td>6</td>\n",
       "      <td>4.309912e+07</td>\n",
       "      <td>6.582791e+07</td>\n",
       "      <td>1.425230e+08</td>\n",
       "    </tr>\n",
       "    <tr>\n",
       "      <td>7</td>\n",
       "      <td>4.254616e+07</td>\n",
       "      <td>6.072804e+07</td>\n",
       "      <td>1.409636e+08</td>\n",
       "    </tr>\n",
       "    <tr>\n",
       "      <td>8</td>\n",
       "      <td>2.555609e+07</td>\n",
       "      <td>3.216821e+07</td>\n",
       "      <td>6.097841e+07</td>\n",
       "    </tr>\n",
       "    <tr>\n",
       "      <td>9</td>\n",
       "      <td>2.181290e+07</td>\n",
       "      <td>2.314989e+07</td>\n",
       "      <td>4.669369e+07</td>\n",
       "    </tr>\n",
       "    <tr>\n",
       "      <td>10</td>\n",
       "      <td>2.039266e+07</td>\n",
       "      <td>2.442350e+07</td>\n",
       "      <td>4.946456e+07</td>\n",
       "    </tr>\n",
       "    <tr>\n",
       "      <td>11</td>\n",
       "      <td>4.260006e+07</td>\n",
       "      <td>5.818117e+07</td>\n",
       "      <td>1.357416e+08</td>\n",
       "    </tr>\n",
       "    <tr>\n",
       "      <td>12</td>\n",
       "      <td>3.325161e+07</td>\n",
       "      <td>4.610082e+07</td>\n",
       "      <td>1.016932e+08</td>\n",
       "    </tr>\n",
       "  </tbody>\n",
       "</table>\n",
       "</div>"
      ],
      "text/plain": [
       "               production_budget  domestic_gross  worldwide_gross\n",
       "release_month                                                    \n",
       "1                   2.084349e+07    2.394962e+07     4.656382e+07\n",
       "2                   2.804642e+07    3.541465e+07     7.154453e+07\n",
       "3                   3.078208e+07    3.857299e+07     8.063337e+07\n",
       "4                   2.380283e+07    2.732840e+07     5.992026e+07\n",
       "5                   4.713520e+07    6.669795e+07     1.622680e+08\n",
       "6                   4.309912e+07    6.582791e+07     1.425230e+08\n",
       "7                   4.254616e+07    6.072804e+07     1.409636e+08\n",
       "8                   2.555609e+07    3.216821e+07     6.097841e+07\n",
       "9                   2.181290e+07    2.314989e+07     4.669369e+07\n",
       "10                  2.039266e+07    2.442350e+07     4.946456e+07\n",
       "11                  4.260006e+07    5.818117e+07     1.357416e+08\n",
       "12                  3.325161e+07    4.610082e+07     1.016932e+08"
      ]
     },
     "execution_count": 56,
     "metadata": {},
     "output_type": "execute_result"
    }
   ],
   "source": [
    "# showing mean/average of production_budget vs earnings dataframe for the 12 months since 2010-2018\n",
    "tn_budgets_pres2"
   ]
  },
  {
   "cell_type": "markdown",
   "metadata": {},
   "source": [
    "### Exploring of tn_budgets_earnings dataframe (Q3: Movie Budget vs Earnings)"
   ]
  },
  {
   "cell_type": "markdown",
   "metadata": {},
   "source": [
    "In question 2 we found out when are peak seasons to release movies and saw the peak seasons for movie revenues.\n",
    "\n",
    "Question 3 we focus more on the budgets and the return of earnings. Finding the sweetspot for our budget. This will answer how much Microsoft should spend on a single movie or how many movies can we produce with budgets we have. To measure that, we need to calculate net profit and rate of return."
   ]
  },
  {
   "cell_type": "code",
   "execution_count": 44,
   "metadata": {
    "ExecuteTime": {
     "end_time": "2021-01-15T05:37:27.028372Z",
     "start_time": "2021-01-15T05:37:27.010095Z"
    }
   },
   "outputs": [],
   "source": [
    "#setting up variables and calculating net profit\n",
    "gross =  tn_budgets_earnings['worldwide_gross']\n",
    "budget = tn_budgets_earnings['production_budget']\n",
    "net_profit = gross - budget"
   ]
  },
  {
   "cell_type": "code",
   "execution_count": 45,
   "metadata": {
    "ExecuteTime": {
     "end_time": "2021-01-15T05:37:27.602714Z",
     "start_time": "2021-01-15T05:37:27.588912Z"
    }
   },
   "outputs": [],
   "source": [
    "#creating a new columns for rate of return calculation in percentage\n",
    "tn_budgets_earnings['RoR'] = round((net_profit)/budget * 100 ,2)"
   ]
  },
  {
   "cell_type": "code",
   "execution_count": 46,
   "metadata": {
    "ExecuteTime": {
     "end_time": "2021-01-15T05:37:28.148038Z",
     "start_time": "2021-01-15T05:37:28.135430Z"
    }
   },
   "outputs": [],
   "source": [
    "#creating a new columns for net profit\n",
    "tn_budgets_earnings['net_profit'] = net_profit"
   ]
  },
  {
   "cell_type": "code",
   "execution_count": 47,
   "metadata": {
    "ExecuteTime": {
     "end_time": "2021-01-15T05:37:28.724257Z",
     "start_time": "2021-01-15T05:37:28.708243Z"
    }
   },
   "outputs": [
    {
     "data": {
      "text/html": [
       "<div>\n",
       "<style scoped>\n",
       "    .dataframe tbody tr th:only-of-type {\n",
       "        vertical-align: middle;\n",
       "    }\n",
       "\n",
       "    .dataframe tbody tr th {\n",
       "        vertical-align: top;\n",
       "    }\n",
       "\n",
       "    .dataframe thead th {\n",
       "        text-align: right;\n",
       "    }\n",
       "</style>\n",
       "<table border=\"1\" class=\"dataframe\">\n",
       "  <thead>\n",
       "    <tr style=\"text-align: right;\">\n",
       "      <th></th>\n",
       "      <th>movie</th>\n",
       "      <th>production_budget</th>\n",
       "      <th>domestic_gross</th>\n",
       "      <th>worldwide_gross</th>\n",
       "      <th>RoR</th>\n",
       "      <th>net_profit</th>\n",
       "    </tr>\n",
       "  </thead>\n",
       "  <tbody>\n",
       "    <tr>\n",
       "      <td>0</td>\n",
       "      <td>Avatar</td>\n",
       "      <td>425000000</td>\n",
       "      <td>760507625</td>\n",
       "      <td>2776345279</td>\n",
       "      <td>553.26</td>\n",
       "      <td>2351345279</td>\n",
       "    </tr>\n",
       "    <tr>\n",
       "      <td>1</td>\n",
       "      <td>Pirates of the Caribbean: On Stranger Tides</td>\n",
       "      <td>410600000</td>\n",
       "      <td>241063875</td>\n",
       "      <td>1045663875</td>\n",
       "      <td>154.67</td>\n",
       "      <td>635063875</td>\n",
       "    </tr>\n",
       "    <tr>\n",
       "      <td>2</td>\n",
       "      <td>Dark Phoenix</td>\n",
       "      <td>350000000</td>\n",
       "      <td>42762350</td>\n",
       "      <td>149762350</td>\n",
       "      <td>-57.21</td>\n",
       "      <td>-200237650</td>\n",
       "    </tr>\n",
       "    <tr>\n",
       "      <td>3</td>\n",
       "      <td>Avengers: Age of Ultron</td>\n",
       "      <td>330600000</td>\n",
       "      <td>459005868</td>\n",
       "      <td>1403013963</td>\n",
       "      <td>324.38</td>\n",
       "      <td>1072413963</td>\n",
       "    </tr>\n",
       "    <tr>\n",
       "      <td>4</td>\n",
       "      <td>Star Wars Ep. VIII: The Last Jedi</td>\n",
       "      <td>317000000</td>\n",
       "      <td>620181382</td>\n",
       "      <td>1316721747</td>\n",
       "      <td>315.37</td>\n",
       "      <td>999721747</td>\n",
       "    </tr>\n",
       "  </tbody>\n",
       "</table>\n",
       "</div>"
      ],
      "text/plain": [
       "                                         movie  production_budget  \\\n",
       "0                                       Avatar          425000000   \n",
       "1  Pirates of the Caribbean: On Stranger Tides          410600000   \n",
       "2                                 Dark Phoenix          350000000   \n",
       "3                      Avengers: Age of Ultron          330600000   \n",
       "4            Star Wars Ep. VIII: The Last Jedi          317000000   \n",
       "\n",
       "   domestic_gross  worldwide_gross     RoR  net_profit  \n",
       "0       760507625       2776345279  553.26  2351345279  \n",
       "1       241063875       1045663875  154.67   635063875  \n",
       "2        42762350        149762350  -57.21  -200237650  \n",
       "3       459005868       1403013963  324.38  1072413963  \n",
       "4       620181382       1316721747  315.37   999721747  "
      ]
     },
     "execution_count": 47,
     "metadata": {},
     "output_type": "execute_result"
    }
   ],
   "source": [
    "#preview new calculated columns\n",
    "tn_budgets_earnings.head()"
   ]
  },
  {
   "cell_type": "markdown",
   "metadata": {},
   "source": [
    "## Data Visualization"
   ]
  },
  {
   "cell_type": "markdown",
   "metadata": {},
   "source": [
    "This section we will present the data into tables, charts, visuals that aids understanding of a certain patterns, trends or predictions we analyzed through previous explorations."
   ]
  },
  {
   "cell_type": "markdown",
   "metadata": {},
   "source": [
    "### Visualizing imdb_basics_present dataframe (Q1: Movie Genres)"
   ]
  },
  {
   "cell_type": "markdown",
   "metadata": {},
   "source": [
    "The line graph below shows the sum of movies occurence falling under a certain genre in a running x-axis over the years. Most movies fall under multiple genres. However by breaking down each unique genre we get to gage what are the more popular genres, and how do they fair ratio wise to the non popular genres."
   ]
  },
  {
   "cell_type": "code",
   "execution_count": 48,
   "metadata": {
    "ExecuteTime": {
     "end_time": "2021-01-15T05:37:30.201928Z",
     "start_time": "2021-01-15T05:37:29.299309Z"
    }
   },
   "outputs": [
    {
     "data": {
      "text/plain": [
       "Text(0.5, 1.0, 'Genre of Movies From 2010 to 2018')"
      ]
     },
     "execution_count": 48,
     "metadata": {},
     "output_type": "execute_result"
    },
    {
     "data": {
      "image/png": "[encoded data removed]",
      "text/plain": [
       "<Figure size 1080x576 with 1 Axes>"
      ]
     },
     "metadata": {},
     "output_type": "display_data"
    }
   ],
   "source": [
    "# Ploting sum of movie genre over the years\n",
    "plt.style.use('ggplot')\n",
    "dfbasic_all.plot(kind = 'line', figsize = (15,8))\n",
    "plt.xlabel('Year')\n",
    "plt.ylabel('Movie Genre Occurence')\n",
    "plt. title('Genre of Movies From 2010 to 2018')"
   ]
  },
  {
   "cell_type": "markdown",
   "metadata": {},
   "source": [
    "Analysis: This is definitely a busy graph. It is really hard to exactly tell which genre falls on which line. However, this graphs shows a good comparisons between genres where the top 2 genres are above 4000 count yearly, 1 genre is abve 2000 yearly and most of the rest falls between 0 to approximlatly 1000."
   ]
  },
  {
   "cell_type": "code",
   "execution_count": 49,
   "metadata": {
    "ExecuteTime": {
     "end_time": "2021-01-15T05:37:31.522769Z",
     "start_time": "2021-01-15T05:37:30.959275Z"
    }
   },
   "outputs": [
    {
     "data": {
      "text/plain": [
       "Text(0.5, 1.0, 'Top 8 Genre of Movies From 2010 to 2018')"
      ]
     },
     "execution_count": 49,
     "metadata": {},
     "output_type": "execute_result"
    },
    {
     "data": {
      "image/png": "[encoded data removed]",
      "text/plain": [
       "<Figure size 1080x576 with 1 Axes>"
      ]
     },
     "metadata": {},
     "output_type": "display_data"
    }
   ],
   "source": [
    "#Slicing data from above line graph to include only the top 8 genres\n",
    "dfbasic_pres.plot(kind = 'line', figsize = (15,8))\n",
    "plt.xlabel('Year')\n",
    "plt.ylabel('Movie Genre Occurence')\n",
    "plt. title('Top 8 Genre of Movies From 2010 to 2018')"
   ]
  },
  {
   "cell_type": "markdown",
   "metadata": {},
   "source": [
    "Analysis: The top 8 genre is helpful showing us Documentary and Drama fair the best, Comedy is next follows by Thriller, Horror, Action, Romance and Biography. "
   ]
  },
  {
   "cell_type": "markdown",
   "metadata": {},
   "source": [
    "### Visualizing tn_budgets_pres dataframe (Q2: Movie Release Date)"
   ]
  },
  {
   "cell_type": "markdown",
   "metadata": {},
   "source": [
    "A quick look into the mean of movie production budgets, domestic gross and worldwide gross over the months gives us a good idea when are the peak movie seasons."
   ]
  },
  {
   "cell_type": "code",
   "execution_count": 69,
   "metadata": {
    "ExecuteTime": {
     "end_time": "2021-01-15T09:00:58.235434Z",
     "start_time": "2021-01-15T09:00:57.706226Z"
    }
   },
   "outputs": [
    {
     "data": {
      "text/plain": [
       "Text(0.5, 1.0, 'Mean of Movie Budgets and Earnings vs Release Months (year 1915~2015)')"
      ]
     },
     "execution_count": 69,
     "metadata": {},
     "output_type": "execute_result"
    },
    {
     "data": {
      "image/png": "[encoded data removed]",
      "text/plain": [
       "<Figure size 1152x576 with 1 Axes>"
      ]
     },
     "metadata": {},
     "output_type": "display_data"
    }
   ],
   "source": [
    "#plotting a bar graph for mean of movie budgets and earnings vs release months\n",
    "tn_budgets_pres2.plot(kind='bar',figsize=(16,8), width = .8)\n",
    "plt.xlabel('Release Month')\n",
    "plt.ylabel('USD in One Hundred Million (100,000,000)')\n",
    "plt. title('Mean of Movie Budgets and Earnings vs Release Months (year 1915~2015)')"
   ]
  },
  {
   "cell_type": "markdown",
   "metadata": {},
   "source": [
    "Analysis: It is interesting to point out that the domestic gross seems to often break even the production budget. The peak months for good box office sales are May, June, July, November and December. The summer and winter holidays for the US. \n",
    "\n",
    "Since the mean does not take account of outliers, we could try using box plot to fnd out more regarding the Max, Min, Interquantile and Mean excluding the outliers."
   ]
  },
  {
   "cell_type": "markdown",
   "metadata": {},
   "source": [
    "Using seaborn library we were able to get a nice boxplot for Production budget vs release date."
   ]
  },
  {
   "cell_type": "code",
   "execution_count": 297,
   "metadata": {
    "ExecuteTime": {
     "end_time": "2020-12-28T23:32:24.416295Z",
     "start_time": "2020-12-28T23:32:23.830291Z"
    },
    "scrolled": false
   },
   "outputs": [
    {
     "data": {
      "text/plain": [
       "Text(0.5, 1.0, 'Production Budget vs Release Date')"
      ]
     },
     "execution_count": 297,
     "metadata": {},
     "output_type": "execute_result"
    },
    {
     "data": {
      "image/png": "[encoded data removed]",
      "text/plain": [
       "<Figure size 1152x864 with 1 Axes>"
      ]
     },
     "metadata": {},
     "output_type": "display_data"
    }
   ],
   "source": [
    "#creating boxplot of production budget vs release date\n",
    "#there are many outliers, we turn off showing of outliers to get a compact visual\n",
    "sns.set(rc={'figure.figsize':(16,12)})\n",
    "plt.ylim([0,200000000])\n",
    "sns.boxplot(x='release_month', y='production_budget', data= tn_budgets_clean, showfliers = False)\n",
    "plt.xlabel('Release Month')\n",
    "plt.ylabel('USD in One Hundred Million (100,000,000)')\n",
    "plt. title('Production Budget vs Release Date')"
   ]
  },
  {
   "cell_type": "markdown",
   "metadata": {},
   "source": [
    "We tried the same thing for worldwide gross vs release month."
   ]
  },
  {
   "cell_type": "code",
   "execution_count": 294,
   "metadata": {
    "ExecuteTime": {
     "end_time": "2020-12-28T23:29:13.555564Z",
     "start_time": "2020-12-28T23:29:12.962464Z"
    },
    "scrolled": false
   },
   "outputs": [
    {
     "data": {
      "text/plain": [
       "Text(0.5, 1.0, 'Worldwide Gross vs Release Month')"
      ]
     },
     "execution_count": 294,
     "metadata": {},
     "output_type": "execute_result"
    },
    {
     "data": {
      "image/png": "[encoded data removed]",
      "text/plain": [
       "<Figure size 1152x864 with 1 Axes>"
      ]
     },
     "metadata": {},
     "output_type": "display_data"
    }
   ],
   "source": [
    "#creating boxplot of worldwide gross vs release date\n",
    "sns.boxplot(x='release_month', y='worldwide_gross', data= tn_budgets_clean, showfliers = False)\n",
    "plt.ylim([0,200000000])\n",
    "plt.xlabel('Release Month')\n",
    "plt.ylabel('USD in One Hundred Million (100,000,000)')\n",
    "plt. title('Worldwide Gross vs Release Month')"
   ]
  },
  {
   "cell_type": "markdown",
   "metadata": {},
   "source": [
    "Unfortunately, Seaborn does not take our dataframe where there are variables in each column, aka wide format. To plot with seaborn, we need to melt the dataframe by pivoting the wide format to long format."
   ]
  },
  {
   "cell_type": "code",
   "execution_count": 303,
   "metadata": {
    "ExecuteTime": {
     "end_time": "2020-12-30T02:19:00.430056Z",
     "start_time": "2020-12-30T02:19:00.418671Z"
    }
   },
   "outputs": [
    {
     "data": {
      "text/html": [
       "<div>\n",
       "<style scoped>\n",
       "    .dataframe tbody tr th:only-of-type {\n",
       "        vertical-align: middle;\n",
       "    }\n",
       "\n",
       "    .dataframe tbody tr th {\n",
       "        vertical-align: top;\n",
       "    }\n",
       "\n",
       "    .dataframe thead th {\n",
       "        text-align: right;\n",
       "    }\n",
       "</style>\n",
       "<table border=\"1\" class=\"dataframe\">\n",
       "  <thead>\n",
       "    <tr style=\"text-align: right;\">\n",
       "      <th></th>\n",
       "      <th>movie</th>\n",
       "      <th>production_budget</th>\n",
       "      <th>domestic_gross</th>\n",
       "      <th>worldwide_gross</th>\n",
       "      <th>release_month</th>\n",
       "    </tr>\n",
       "  </thead>\n",
       "  <tbody>\n",
       "    <tr>\n",
       "      <td>0</td>\n",
       "      <td>Avatar</td>\n",
       "      <td>425000000</td>\n",
       "      <td>760507625</td>\n",
       "      <td>2776345279</td>\n",
       "      <td>12</td>\n",
       "    </tr>\n",
       "    <tr>\n",
       "      <td>1</td>\n",
       "      <td>Pirates of the Caribbean: On Stranger Tides</td>\n",
       "      <td>410600000</td>\n",
       "      <td>241063875</td>\n",
       "      <td>1045663875</td>\n",
       "      <td>5</td>\n",
       "    </tr>\n",
       "    <tr>\n",
       "      <td>2</td>\n",
       "      <td>Dark Phoenix</td>\n",
       "      <td>350000000</td>\n",
       "      <td>42762350</td>\n",
       "      <td>149762350</td>\n",
       "      <td>6</td>\n",
       "    </tr>\n",
       "    <tr>\n",
       "      <td>3</td>\n",
       "      <td>Avengers: Age of Ultron</td>\n",
       "      <td>330600000</td>\n",
       "      <td>459005868</td>\n",
       "      <td>1403013963</td>\n",
       "      <td>5</td>\n",
       "    </tr>\n",
       "    <tr>\n",
       "      <td>4</td>\n",
       "      <td>Star Wars Ep. VIII: The Last Jedi</td>\n",
       "      <td>317000000</td>\n",
       "      <td>620181382</td>\n",
       "      <td>1316721747</td>\n",
       "      <td>12</td>\n",
       "    </tr>\n",
       "  </tbody>\n",
       "</table>\n",
       "</div>"
      ],
      "text/plain": [
       "                                         movie  production_budget  \\\n",
       "0                                       Avatar          425000000   \n",
       "1  Pirates of the Caribbean: On Stranger Tides          410600000   \n",
       "2                                 Dark Phoenix          350000000   \n",
       "3                      Avengers: Age of Ultron          330600000   \n",
       "4            Star Wars Ep. VIII: The Last Jedi          317000000   \n",
       "\n",
       "   domestic_gross  worldwide_gross  release_month  \n",
       "0       760507625       2776345279             12  \n",
       "1       241063875       1045663875              5  \n",
       "2        42762350        149762350              6  \n",
       "3       459005868       1403013963              5  \n",
       "4       620181382       1316721747             12  "
      ]
     },
     "execution_count": 303,
     "metadata": {},
     "output_type": "execute_result"
    }
   ],
   "source": [
    "#preview tn_budgets_clean dataframe (aka Wide format)\n",
    "tn_budgets_clean.head()"
   ]
  },
  {
   "cell_type": "code",
   "execution_count": 326,
   "metadata": {
    "ExecuteTime": {
     "end_time": "2020-12-30T23:42:12.942280Z",
     "start_time": "2020-12-30T23:42:12.916434Z"
    }
   },
   "outputs": [],
   "source": [
    "#melting tn_budgets_clean dataframe from wide format to long format to make ploting eassier for searborn\n",
    "tn_budgets_pres2 = tn_budgets_clean.melt(id_vars=['release_month'], value_vars= ['production_budget','domestic_gross','worldwide_gross'])"
   ]
  },
  {
   "cell_type": "code",
   "execution_count": 327,
   "metadata": {
    "ExecuteTime": {
     "end_time": "2020-12-30T23:42:16.161328Z",
     "start_time": "2020-12-30T23:42:16.127208Z"
    }
   },
   "outputs": [
    {
     "data": {
      "text/html": [
       "<div>\n",
       "<style scoped>\n",
       "    .dataframe tbody tr th:only-of-type {\n",
       "        vertical-align: middle;\n",
       "    }\n",
       "\n",
       "    .dataframe tbody tr th {\n",
       "        vertical-align: top;\n",
       "    }\n",
       "\n",
       "    .dataframe thead th {\n",
       "        text-align: right;\n",
       "    }\n",
       "</style>\n",
       "<table border=\"1\" class=\"dataframe\">\n",
       "  <thead>\n",
       "    <tr style=\"text-align: right;\">\n",
       "      <th></th>\n",
       "      <th>release_month</th>\n",
       "      <th>variable</th>\n",
       "      <th>value</th>\n",
       "    </tr>\n",
       "  </thead>\n",
       "  <tbody>\n",
       "    <tr>\n",
       "      <td>0</td>\n",
       "      <td>1</td>\n",
       "      <td>domestic_gross</td>\n",
       "      <td>2.394962e+07</td>\n",
       "    </tr>\n",
       "    <tr>\n",
       "      <td>1</td>\n",
       "      <td>1</td>\n",
       "      <td>production_budget</td>\n",
       "      <td>2.084349e+07</td>\n",
       "    </tr>\n",
       "    <tr>\n",
       "      <td>2</td>\n",
       "      <td>1</td>\n",
       "      <td>worldwide_gross</td>\n",
       "      <td>4.656382e+07</td>\n",
       "    </tr>\n",
       "    <tr>\n",
       "      <td>3</td>\n",
       "      <td>2</td>\n",
       "      <td>domestic_gross</td>\n",
       "      <td>3.541465e+07</td>\n",
       "    </tr>\n",
       "    <tr>\n",
       "      <td>4</td>\n",
       "      <td>2</td>\n",
       "      <td>production_budget</td>\n",
       "      <td>2.804642e+07</td>\n",
       "    </tr>\n",
       "  </tbody>\n",
       "</table>\n",
       "</div>"
      ],
      "text/plain": [
       "   release_month           variable         value\n",
       "0              1     domestic_gross  2.394962e+07\n",
       "1              1  production_budget  2.084349e+07\n",
       "2              1    worldwide_gross  4.656382e+07\n",
       "3              2     domestic_gross  3.541465e+07\n",
       "4              2  production_budget  2.804642e+07"
      ]
     },
     "execution_count": 327,
     "metadata": {},
     "output_type": "execute_result"
    }
   ],
   "source": [
    "#preview tn_budgets_pres2 after melting (aka Long format)\n",
    "tn_budgets_pres2.groupby(['release_month','variable']).mean().reset_index().head()"
   ]
  },
  {
   "cell_type": "code",
   "execution_count": 328,
   "metadata": {
    "ExecuteTime": {
     "end_time": "2020-12-30T23:42:21.811311Z",
     "start_time": "2020-12-30T23:42:20.689599Z"
    },
    "scrolled": true
   },
   "outputs": [
    {
     "data": {
      "text/plain": [
       "Text(0.5, 1.0, 'Production Budget and Gross vs Release Month')"
      ]
     },
     "execution_count": 328,
     "metadata": {},
     "output_type": "execute_result"
    },
    {
     "data": {
      "image/png": "[encoded data removed]",
      "text/plain": [
       "<Figure size 1152x864 with 1 Axes>"
      ]
     },
     "metadata": {},
     "output_type": "display_data"
    }
   ],
   "source": [
    "#ploting out tn_budgets_pres2 comparing production budget, domestic and worldwide gross side by side vs release month\n",
    "#we have to cut off the axis y to focus the graph in place.\n",
    "sns.boxplot(x='release_month', y='value', hue='variable', data= tn_budgets_pres2, showfliers = False)\n",
    "plt.ylim([0,250000000])\n",
    "plt.xlabel('Release Month')\n",
    "plt.ylabel('USD in One Hundred Million (100,000,000)')\n",
    "plt. title('Production Budget and Gross vs Release Month')"
   ]
  },
  {
   "cell_type": "markdown",
   "metadata": {},
   "source": [
    "Analysis: The box plot shows more data than the mean bar graph. Here we were able to see the Max, Min, Mean and interquantile of budget, domestic and worldwide gross. We could also see bigger spectrum on the worldwide gross earnings especially during the summer and winter months. This is helpful for a movie producer to compare their sales standings during these seasons."
   ]
  },
  {
   "cell_type": "markdown",
   "metadata": {},
   "source": [
    "### Visualizing  dataframe (Q3: Movie Budget vs Earnings)"
   ]
  },
  {
   "cell_type": "markdown",
   "metadata": {},
   "source": [
    "Initially we look into budget vs earnings using rate of return. The scatter graph shows as below."
   ]
  },
  {
   "cell_type": "code",
   "execution_count": 85,
   "metadata": {
    "ExecuteTime": {
     "end_time": "2021-01-12T22:21:12.400341Z",
     "start_time": "2021-01-12T22:21:11.631300Z"
    }
   },
   "outputs": [
    {
     "data": {
      "text/plain": [
       "Text(0.5, 1.0, 'Production Budget and Gross vs RoR')"
      ]
     },
     "execution_count": 85,
     "metadata": {},
     "output_type": "execute_result"
    },
    {
     "data": {
      "image/png": "[encoded data removed]",
      "text/plain": [
       "<Figure size 432x432 with 1 Axes>"
      ]
     },
     "metadata": {},
     "output_type": "display_data"
    }
   ],
   "source": [
    "#plotting scatter plot using fivethirteight plot style\n",
    "with plt.style.context('fivethirtyeight'):\n",
    "     sns.regplot(x='production_budget', y='RoR',data = tn_budgets_earnings , \n",
    "                 scatter_kws={'color':'#7230b0'}, line_kws={'color':'#4e3f5c','alpha':0.3, 'lw':3})\n",
    "plt.xlabel('Production budget in One Hundred Million (USD 100,000,000)',fontsize=10)\n",
    "plt.ylabel('Rate of Return (%)',fontsize=10)\n",
    "plt. title('Production Budget and Gross vs RoR')"
   ]
  },
  {
   "cell_type": "markdown",
   "metadata": {},
   "source": [
    "It is hard to tell the corelationship between production budget and rate of return with above visuals. As per general knowledge, when the budget is low, or near to zero, any earnings will skewed the percentage of earnings to a high number. We shall then zoom in more and cutting down extremes of RoR above 2000%."
   ]
  },
  {
   "cell_type": "code",
   "execution_count": 60,
   "metadata": {
    "ExecuteTime": {
     "end_time": "2021-01-15T06:08:02.887978Z",
     "start_time": "2021-01-15T06:08:02.877792Z"
    }
   },
   "outputs": [],
   "source": [
    "tn_RoR = tn_budgets_earnings[tn_budgets_earnings['RoR'] < 2000]"
   ]
  },
  {
   "cell_type": "code",
   "execution_count": 61,
   "metadata": {
    "ExecuteTime": {
     "end_time": "2021-01-15T06:08:03.502938Z",
     "start_time": "2021-01-15T06:08:03.485663Z"
    }
   },
   "outputs": [
    {
     "data": {
      "text/html": [
       "<div>\n",
       "<style scoped>\n",
       "    .dataframe tbody tr th:only-of-type {\n",
       "        vertical-align: middle;\n",
       "    }\n",
       "\n",
       "    .dataframe tbody tr th {\n",
       "        vertical-align: top;\n",
       "    }\n",
       "\n",
       "    .dataframe thead th {\n",
       "        text-align: right;\n",
       "    }\n",
       "</style>\n",
       "<table border=\"1\" class=\"dataframe\">\n",
       "  <thead>\n",
       "    <tr style=\"text-align: right;\">\n",
       "      <th></th>\n",
       "      <th>movie</th>\n",
       "      <th>production_budget</th>\n",
       "      <th>domestic_gross</th>\n",
       "      <th>worldwide_gross</th>\n",
       "      <th>RoR</th>\n",
       "      <th>net_profit</th>\n",
       "    </tr>\n",
       "  </thead>\n",
       "  <tbody>\n",
       "    <tr>\n",
       "      <td>0</td>\n",
       "      <td>Avatar</td>\n",
       "      <td>425000000</td>\n",
       "      <td>760507625</td>\n",
       "      <td>2776345279</td>\n",
       "      <td>553.26</td>\n",
       "      <td>2351345279</td>\n",
       "    </tr>\n",
       "    <tr>\n",
       "      <td>1</td>\n",
       "      <td>Pirates of the Caribbean: On Stranger Tides</td>\n",
       "      <td>410600000</td>\n",
       "      <td>241063875</td>\n",
       "      <td>1045663875</td>\n",
       "      <td>154.67</td>\n",
       "      <td>635063875</td>\n",
       "    </tr>\n",
       "    <tr>\n",
       "      <td>2</td>\n",
       "      <td>Dark Phoenix</td>\n",
       "      <td>350000000</td>\n",
       "      <td>42762350</td>\n",
       "      <td>149762350</td>\n",
       "      <td>-57.21</td>\n",
       "      <td>-200237650</td>\n",
       "    </tr>\n",
       "    <tr>\n",
       "      <td>3</td>\n",
       "      <td>Avengers: Age of Ultron</td>\n",
       "      <td>330600000</td>\n",
       "      <td>459005868</td>\n",
       "      <td>1403013963</td>\n",
       "      <td>324.38</td>\n",
       "      <td>1072413963</td>\n",
       "    </tr>\n",
       "    <tr>\n",
       "      <td>4</td>\n",
       "      <td>Star Wars Ep. VIII: The Last Jedi</td>\n",
       "      <td>317000000</td>\n",
       "      <td>620181382</td>\n",
       "      <td>1316721747</td>\n",
       "      <td>315.37</td>\n",
       "      <td>999721747</td>\n",
       "    </tr>\n",
       "  </tbody>\n",
       "</table>\n",
       "</div>"
      ],
      "text/plain": [
       "                                         movie  production_budget  \\\n",
       "0                                       Avatar          425000000   \n",
       "1  Pirates of the Caribbean: On Stranger Tides          410600000   \n",
       "2                                 Dark Phoenix          350000000   \n",
       "3                      Avengers: Age of Ultron          330600000   \n",
       "4            Star Wars Ep. VIII: The Last Jedi          317000000   \n",
       "\n",
       "   domestic_gross  worldwide_gross     RoR  net_profit  \n",
       "0       760507625       2776345279  553.26  2351345279  \n",
       "1       241063875       1045663875  154.67   635063875  \n",
       "2        42762350        149762350  -57.21  -200237650  \n",
       "3       459005868       1403013963  324.38  1072413963  \n",
       "4       620181382       1316721747  315.37   999721747  "
      ]
     },
     "execution_count": 61,
     "metadata": {},
     "output_type": "execute_result"
    }
   ],
   "source": [
    "tn_RoR.head()"
   ]
  },
  {
   "cell_type": "code",
   "execution_count": 62,
   "metadata": {
    "ExecuteTime": {
     "end_time": "2021-01-15T06:08:05.303459Z",
     "start_time": "2021-01-15T06:08:04.654846Z"
    }
   },
   "outputs": [
    {
     "data": {
      "text/plain": [
       "Text(0.5, 1.0, 'Production Budget vs RoR <2000%')"
      ]
     },
     "execution_count": 62,
     "metadata": {},
     "output_type": "execute_result"
    },
    {
     "data": {
      "image/png": "[encoded data removed]",
      "text/plain": [
       "<Figure size 432x288 with 1 Axes>"
      ]
     },
     "metadata": {},
     "output_type": "display_data"
    }
   ],
   "source": [
    "with plt.style.context('fivethirtyeight'):\n",
    "     sns.regplot(x='production_budget', y='RoR',data = tn_RoR , \n",
    "                 scatter_kws={'color':'#7230b0'}, line_kws={'color':'#4e3f5c','alpha':0.3, 'lw':3})\n",
    "plt.xlabel('Production budget in One Hundred Million (USD 100,000,000)',fontsize=10)\n",
    "plt.ylabel('Rate of Return (%)',fontsize=10)\n",
    "plt. title('Production Budget vs RoR <2000%')"
   ]
  },
  {
   "cell_type": "markdown",
   "metadata": {},
   "source": [
    "A closer look into our first visualizations brings us to the above chart. There is no strong conclusion like more budget means better rate of return. Although in the 0 to 1.5 million interval the spectrum is a bit wider vs 1.5 million onwards.\n",
    "\n",
    "Bottomline here is that the regression line runs around 200% return rate.\n",
    "\n",
    "When we speak of Rate of Return, the absolute value is next thing of concern. Afterall, 1000% of 10 cents is only 100 dollar. Even though a good return for anyone, it is not much when considering feeding a company of actors and staffs. This leads us to look into net profit for insights."
   ]
  },
  {
   "cell_type": "code",
   "execution_count": 63,
   "metadata": {
    "ExecuteTime": {
     "end_time": "2021-01-15T06:08:08.145590Z",
     "start_time": "2021-01-15T06:08:07.514172Z"
    }
   },
   "outputs": [
    {
     "data": {
      "text/plain": [
       "Text(0.5, 1.0, 'Production Budget vs Net Profit')"
      ]
     },
     "execution_count": 63,
     "metadata": {},
     "output_type": "execute_result"
    },
    {
     "data": {
      "image/png": "[encoded data removed]",
      "text/plain": [
       "<Figure size 432x288 with 1 Axes>"
      ]
     },
     "metadata": {},
     "output_type": "display_data"
    }
   ],
   "source": [
    "#plotting production budget vs net profit\n",
    "with plt.style.context('fivethirtyeight'):\n",
    "     sns.regplot(x='production_budget', y='net_profit',data = tn_budgets_earnings , \n",
    "                 scatter_kws={'color':'#26a330'}, line_kws={'color':'#16611c','alpha':0.3, 'lw':3})\n",
    "plt.xlabel('Production budget in One Hundred Million (USD 100,000,000)',fontsize=10)\n",
    "plt.ylabel('Net Profit',fontsize=10)\n",
    "plt. title('Production Budget vs Net Profit')"
   ]
  },
  {
   "cell_type": "markdown",
   "metadata": {},
   "source": [
    "We will try to seperate the best and worst 500 datapoints (around top and bottom 10%) to gage if there is a corelation between budgets and Net Profit."
   ]
  },
  {
   "cell_type": "code",
   "execution_count": 64,
   "metadata": {
    "ExecuteTime": {
     "end_time": "2021-01-15T06:08:13.193031Z",
     "start_time": "2021-01-15T06:08:13.165549Z"
    }
   },
   "outputs": [],
   "source": [
    "tn_profit = tn_budgets_earnings.sort_values(by = 'net_profit', ascending = False).head(500)\n",
    "tn_xprofit = tn_budgets_earnings.sort_values(by = 'net_profit', ascending = True).head(500)"
   ]
  },
  {
   "cell_type": "code",
   "execution_count": 67,
   "metadata": {
    "ExecuteTime": {
     "end_time": "2021-01-15T06:09:31.196042Z",
     "start_time": "2021-01-15T06:09:30.804632Z"
    }
   },
   "outputs": [
    {
     "data": {
      "text/plain": [
       "Text(0.5, 1.0, 'Production Budget vs Net Profit for Top 500 Profitable Movies')"
      ]
     },
     "execution_count": 67,
     "metadata": {},
     "output_type": "execute_result"
    },
    {
     "data": {
      "image/png": "[encoded data removed]",
      "text/plain": [
       "<Figure size 432x288 with 1 Axes>"
      ]
     },
     "metadata": {},
     "output_type": "display_data"
    }
   ],
   "source": [
    "#plotting the 500 most profitable movies\n",
    "with plt.style.context('fivethirtyeight'):\n",
    "     sns.regplot(x='production_budget', y='net_profit',data = tn_profit , \n",
    "                 scatter_kws={'color':'#D4AF37'}, line_kws={'color':'#d1ce15','alpha':0.3, 'lw':3})\n",
    "plt.xlabel('Production budget in One Hundred Million (USD 100,000,000)',fontsize=10)\n",
    "plt.ylabel('Net Profit',fontsize=10)\n",
    "plt. title('Production Budget vs Net Profit for Top 500 Profitable Movies',fontsize=10)"
   ]
  },
  {
   "cell_type": "markdown",
   "metadata": {},
   "source": [
    "Analysis: Many of the most profitable movies makes a minimum of .25 Billion. Most of the sales record having production budget between 0 to 2.5 hundred million. "
   ]
  },
  {
   "cell_type": "code",
   "execution_count": 68,
   "metadata": {
    "ExecuteTime": {
     "end_time": "2021-01-15T06:09:41.828450Z",
     "start_time": "2021-01-15T06:09:41.411301Z"
    }
   },
   "outputs": [
    {
     "data": {
      "text/plain": [
       "Text(0.5, 1.0, 'Production Budget vs Net Profit for 500 Most Unprofitable Movies')"
      ]
     },
     "execution_count": 68,
     "metadata": {},
     "output_type": "execute_result"
    },
    {
     "data": {
      "image/png": "[encoded data removed]",
      "text/plain": [
       "<Figure size 432x288 with 1 Axes>"
      ]
     },
     "metadata": {},
     "output_type": "display_data"
    }
   ],
   "source": [
    "#ploting the 500 most unprofitable movies\n",
    "with plt.style.context('fivethirtyeight'):\n",
    "     sns.regplot(x='production_budget', y='net_profit',data = tn_xprofit , \n",
    "                 scatter_kws={'color':'#828282'}, line_kws={'color':'#787276','alpha':0.3, 'lw':3})\n",
    "plt.xlabel('Production budget in One Hundred Million (USD 100,000,000)',fontsize=10)\n",
    "plt.ylabel('Net Profit',fontsize=10)\n",
    "plt. title('Production Budget vs Net Profit for 500 Most Unprofitable Movies',fontsize=10)"
   ]
  },
  {
   "cell_type": "markdown",
   "metadata": {
    "ExecuteTime": {
     "end_time": "2021-01-15T23:40:01.077916Z",
     "start_time": "2021-01-15T23:40:01.072307Z"
    }
   },
   "source": [
    "Analysis: Many of the most unprofitable movies report having budget from 0.2 hundred million to 1 hundred million."
   ]
  },
  {
   "cell_type": "markdown",
   "metadata": {},
   "source": [
    "## Summary/ Recommendation"
   ]
  },
  {
   "cell_type": "markdown",
   "metadata": {},
   "source": [
    "Based on the 3 questions we explore, the following are a quick summary of our recoomendation for Microsoft."
   ]
  },
  {
   "cell_type": "markdown",
   "metadata": {},
   "source": [
    "1. Microsoft should focus on the top 8 genre movie. Either focusing on 1 of it or 2 to 3 appropriate combination. Documentary, drama, action are favored.\n",
    "\n",
    "2. The release date should focus mostly on Summer or Winter Holidays. The domestic box office sale is a tale-tale sign if a movie is doing well.\n",
    "\n",
    "3. There are certain risk with bigger budget. However, a budget in between 100 million to 250 million is recommended. Expect 200% return rate as benchmark."
   ]
  },
  {
   "cell_type": "markdown",
   "metadata": {},
   "source": [
    "## Future Work"
   ]
  },
  {
   "cell_type": "markdown",
   "metadata": {},
   "source": [
    "The above analysis should gives us an idea of the movie industry, guidelines to abide by and warnings to avoid. For future partnership, the following are questions that we think would provide deeper insights into producing a profitable movie."
   ]
  },
  {
   "cell_type": "markdown",
   "metadata": {},
   "source": [
    "- Among top 8, there is a decline in Biography movies. Need more research if this is due to lack of demand or lack of content. The answer to this will be a decision to pick or avoid this genre.\n",
    "\n",
    "- What are the average budget and earnings of each unique genre over the years?\n",
    "\n",
    "- Instead of 1915 to 2015 data from moviedb.org, what would it be like looking into more recent data.  What about most streamed movies and streamed times since 2020 pandemic?\n",
    "\n",
    "- Movies industries are all fighting for portion of viewers’ attention span. How much budget did the top producers put in yearly and what are their earnings?"
   ]
  }
 ],
 "metadata": {
  "kernelspec": {
   "display_name": "Python 3",
   "language": "python",
   "name": "python3"
  },
  "language_info": {
   "codemirror_mode": {
    "name": "ipython",
    "version": 3
   },
   "file_extension": ".py",
   "mimetype": "text/x-python",
   "name": "python",
   "nbconvert_exporter": "python",
   "pygments_lexer": "ipython3",
   "version": "3.6.9"
  },
  "toc": {
   "base_numbering": 1,
   "nav_menu": {},
   "number_sections": true,
   "sideBar": true,
   "skip_h1_title": false,
   "title_cell": "Table of Contents",
   "title_sidebar": "Contents",
   "toc_cell": false,
   "toc_position": {
    "height": "calc(100% - 180px)",
    "left": "10px",
    "top": "150px",
    "width": "346px"
   },
   "toc_section_display": true,
   "toc_window_display": true
  },
  "varInspector": {
   "cols": {
    "lenName": 16,
    "lenType": 16,
    "lenVar": 40
   },
   "kernels_config": {
    "python": {
     "delete_cmd_postfix": "",
     "delete_cmd_prefix": "del ",
     "library": "var_list.py",
     "varRefreshCmd": "print(var_dic_list())"
    },
    "r": {
     "delete_cmd_postfix": ") ",
     "delete_cmd_prefix": "rm(",
     "library": "var_list.r",
     "varRefreshCmd": "cat(var_dic_list()) "
    }
   },
   "types_to_exclude": [
    "module",
    "function",
    "builtin_function_or_method",
    "instance",
    "_Feature"
   ],
   "window_display": false
  }
 },
 "nbformat": 4,
 "nbformat_minor": 2
}
